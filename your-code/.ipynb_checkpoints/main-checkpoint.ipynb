{
 "cells": [
  {
   "cell_type": "markdown",
   "metadata": {},
   "source": [
    "# Before your start:\n",
    "- Read the README.md file\n",
    "- Comment as much as you can and use the resources in the README.md file\n",
    "- Happy learning!"
   ]
  },
  {
   "cell_type": "code",
   "execution_count": 1,
   "metadata": {},
   "outputs": [],
   "source": [
    "# Import your libraries:\n",
    "\n",
    "%matplotlib inline\n",
    "\n",
    "import numpy as np\n",
    "import pandas as pd\n",
    "import matplotlib.pyplot as plt\n",
    "import seaborn as sns\n",
    "\n",
    "pd.set_option('display.max_columns', None)"
   ]
  },
  {
   "cell_type": "markdown",
   "metadata": {},
   "source": [
    "In this lab, we will explore a dataset that describes websites with different features and labels them either benign or malicious . We will use supervised learning algorithms to figure out what feature patterns malicious websites are likely to have and use our model to predict malicious websites.\n",
    "\n",
    "# Challenge 1 - Explore The Dataset\n",
    "\n",
    "Let's start by exploring the dataset. First load the data file:"
   ]
  },
  {
   "cell_type": "code",
   "execution_count": 2,
   "metadata": {},
   "outputs": [],
   "source": [
    "websites = pd.read_csv('../data/website.csv')"
   ]
  },
  {
   "cell_type": "markdown",
   "metadata": {},
   "source": [
    "#### Explore the data from an bird's-eye view.\n",
    "\n",
    "You should already been very familiar with the procedures now so we won't provide the instructions step by step. Reflect on what you did in the previous labs and explore the dataset.\n",
    "\n",
    "Things you'll be looking for:\n",
    "\n",
    "* What the dataset looks like?\n",
    "* What are the data types?\n",
    "* Which columns contain the features of the websites?\n",
    "* Which column contains the feature we will predict? What is the code standing for benign vs malicious websites?\n",
    "* Do we need to transform any of the columns from categorical to ordinal values? If so what are these columns?\n",
    "\n",
    "Feel free to add additional cells for your explorations. Make sure to comment what you find out."
   ]
  },
  {
   "cell_type": "code",
   "execution_count": 3,
   "metadata": {},
   "outputs": [
    {
     "data": {
      "text/html": [
       "<div>\n",
       "<style scoped>\n",
       "    .dataframe tbody tr th:only-of-type {\n",
       "        vertical-align: middle;\n",
       "    }\n",
       "\n",
       "    .dataframe tbody tr th {\n",
       "        vertical-align: top;\n",
       "    }\n",
       "\n",
       "    .dataframe thead th {\n",
       "        text-align: right;\n",
       "    }\n",
       "</style>\n",
       "<table border=\"1\" class=\"dataframe\">\n",
       "  <thead>\n",
       "    <tr style=\"text-align: right;\">\n",
       "      <th></th>\n",
       "      <th>URL</th>\n",
       "      <th>URL_LENGTH</th>\n",
       "      <th>NUMBER_SPECIAL_CHARACTERS</th>\n",
       "      <th>CHARSET</th>\n",
       "      <th>SERVER</th>\n",
       "      <th>CONTENT_LENGTH</th>\n",
       "      <th>WHOIS_COUNTRY</th>\n",
       "      <th>WHOIS_STATEPRO</th>\n",
       "      <th>WHOIS_REGDATE</th>\n",
       "      <th>WHOIS_UPDATED_DATE</th>\n",
       "      <th>TCP_CONVERSATION_EXCHANGE</th>\n",
       "      <th>DIST_REMOTE_TCP_PORT</th>\n",
       "      <th>REMOTE_IPS</th>\n",
       "      <th>APP_BYTES</th>\n",
       "      <th>SOURCE_APP_PACKETS</th>\n",
       "      <th>REMOTE_APP_PACKETS</th>\n",
       "      <th>SOURCE_APP_BYTES</th>\n",
       "      <th>REMOTE_APP_BYTES</th>\n",
       "      <th>APP_PACKETS</th>\n",
       "      <th>DNS_QUERY_TIMES</th>\n",
       "      <th>Type</th>\n",
       "    </tr>\n",
       "  </thead>\n",
       "  <tbody>\n",
       "    <tr>\n",
       "      <th>0</th>\n",
       "      <td>M0_109</td>\n",
       "      <td>16</td>\n",
       "      <td>7</td>\n",
       "      <td>iso-8859-1</td>\n",
       "      <td>nginx</td>\n",
       "      <td>263.0</td>\n",
       "      <td>None</td>\n",
       "      <td>None</td>\n",
       "      <td>10/10/2015 18:21</td>\n",
       "      <td>None</td>\n",
       "      <td>7</td>\n",
       "      <td>0</td>\n",
       "      <td>2</td>\n",
       "      <td>700</td>\n",
       "      <td>9</td>\n",
       "      <td>10</td>\n",
       "      <td>1153</td>\n",
       "      <td>832</td>\n",
       "      <td>9</td>\n",
       "      <td>2.0</td>\n",
       "      <td>1</td>\n",
       "    </tr>\n",
       "    <tr>\n",
       "      <th>1</th>\n",
       "      <td>B0_2314</td>\n",
       "      <td>16</td>\n",
       "      <td>6</td>\n",
       "      <td>UTF-8</td>\n",
       "      <td>Apache/2.4.10</td>\n",
       "      <td>15087.0</td>\n",
       "      <td>None</td>\n",
       "      <td>None</td>\n",
       "      <td>None</td>\n",
       "      <td>None</td>\n",
       "      <td>17</td>\n",
       "      <td>7</td>\n",
       "      <td>4</td>\n",
       "      <td>1230</td>\n",
       "      <td>17</td>\n",
       "      <td>19</td>\n",
       "      <td>1265</td>\n",
       "      <td>1230</td>\n",
       "      <td>17</td>\n",
       "      <td>0.0</td>\n",
       "      <td>0</td>\n",
       "    </tr>\n",
       "    <tr>\n",
       "      <th>2</th>\n",
       "      <td>B0_911</td>\n",
       "      <td>16</td>\n",
       "      <td>6</td>\n",
       "      <td>us-ascii</td>\n",
       "      <td>Microsoft-HTTPAPI/2.0</td>\n",
       "      <td>324.0</td>\n",
       "      <td>None</td>\n",
       "      <td>None</td>\n",
       "      <td>None</td>\n",
       "      <td>None</td>\n",
       "      <td>0</td>\n",
       "      <td>0</td>\n",
       "      <td>0</td>\n",
       "      <td>0</td>\n",
       "      <td>0</td>\n",
       "      <td>0</td>\n",
       "      <td>0</td>\n",
       "      <td>0</td>\n",
       "      <td>0</td>\n",
       "      <td>0.0</td>\n",
       "      <td>0</td>\n",
       "    </tr>\n",
       "    <tr>\n",
       "      <th>3</th>\n",
       "      <td>B0_113</td>\n",
       "      <td>17</td>\n",
       "      <td>6</td>\n",
       "      <td>ISO-8859-1</td>\n",
       "      <td>nginx</td>\n",
       "      <td>162.0</td>\n",
       "      <td>US</td>\n",
       "      <td>AK</td>\n",
       "      <td>7/10/1997 4:00</td>\n",
       "      <td>12/09/2013 0:45</td>\n",
       "      <td>31</td>\n",
       "      <td>22</td>\n",
       "      <td>3</td>\n",
       "      <td>3812</td>\n",
       "      <td>39</td>\n",
       "      <td>37</td>\n",
       "      <td>18784</td>\n",
       "      <td>4380</td>\n",
       "      <td>39</td>\n",
       "      <td>8.0</td>\n",
       "      <td>0</td>\n",
       "    </tr>\n",
       "    <tr>\n",
       "      <th>4</th>\n",
       "      <td>B0_403</td>\n",
       "      <td>17</td>\n",
       "      <td>6</td>\n",
       "      <td>UTF-8</td>\n",
       "      <td>None</td>\n",
       "      <td>124140.0</td>\n",
       "      <td>US</td>\n",
       "      <td>TX</td>\n",
       "      <td>12/05/1996 0:00</td>\n",
       "      <td>11/04/2017 0:00</td>\n",
       "      <td>57</td>\n",
       "      <td>2</td>\n",
       "      <td>5</td>\n",
       "      <td>4278</td>\n",
       "      <td>61</td>\n",
       "      <td>62</td>\n",
       "      <td>129889</td>\n",
       "      <td>4586</td>\n",
       "      <td>61</td>\n",
       "      <td>4.0</td>\n",
       "      <td>0</td>\n",
       "    </tr>\n",
       "  </tbody>\n",
       "</table>\n",
       "</div>"
      ],
      "text/plain": [
       "       URL  URL_LENGTH  NUMBER_SPECIAL_CHARACTERS     CHARSET  \\\n",
       "0   M0_109          16                          7  iso-8859-1   \n",
       "1  B0_2314          16                          6       UTF-8   \n",
       "2   B0_911          16                          6    us-ascii   \n",
       "3   B0_113          17                          6  ISO-8859-1   \n",
       "4   B0_403          17                          6       UTF-8   \n",
       "\n",
       "                  SERVER  CONTENT_LENGTH WHOIS_COUNTRY WHOIS_STATEPRO  \\\n",
       "0                  nginx           263.0          None           None   \n",
       "1          Apache/2.4.10         15087.0          None           None   \n",
       "2  Microsoft-HTTPAPI/2.0           324.0          None           None   \n",
       "3                  nginx           162.0            US             AK   \n",
       "4                   None        124140.0            US             TX   \n",
       "\n",
       "      WHOIS_REGDATE WHOIS_UPDATED_DATE  TCP_CONVERSATION_EXCHANGE  \\\n",
       "0  10/10/2015 18:21               None                          7   \n",
       "1              None               None                         17   \n",
       "2              None               None                          0   \n",
       "3    7/10/1997 4:00    12/09/2013 0:45                         31   \n",
       "4   12/05/1996 0:00    11/04/2017 0:00                         57   \n",
       "\n",
       "   DIST_REMOTE_TCP_PORT  REMOTE_IPS  APP_BYTES  SOURCE_APP_PACKETS  \\\n",
       "0                     0           2        700                   9   \n",
       "1                     7           4       1230                  17   \n",
       "2                     0           0          0                   0   \n",
       "3                    22           3       3812                  39   \n",
       "4                     2           5       4278                  61   \n",
       "\n",
       "   REMOTE_APP_PACKETS  SOURCE_APP_BYTES  REMOTE_APP_BYTES  APP_PACKETS  \\\n",
       "0                  10              1153               832            9   \n",
       "1                  19              1265              1230           17   \n",
       "2                   0                 0                 0            0   \n",
       "3                  37             18784              4380           39   \n",
       "4                  62            129889              4586           61   \n",
       "\n",
       "   DNS_QUERY_TIMES  Type  \n",
       "0              2.0     1  \n",
       "1              0.0     0  \n",
       "2              0.0     0  \n",
       "3              8.0     0  \n",
       "4              4.0     0  "
      ]
     },
     "execution_count": 3,
     "metadata": {},
     "output_type": "execute_result"
    }
   ],
   "source": [
    "# Your code here\n",
    "websites.head()"
   ]
  },
  {
   "cell_type": "code",
   "execution_count": 4,
   "metadata": {
    "scrolled": true
   },
   "outputs": [
    {
     "name": "stdout",
     "output_type": "stream",
     "text": [
      "<class 'pandas.core.frame.DataFrame'>\n",
      "RangeIndex: 1781 entries, 0 to 1780\n",
      "Data columns (total 21 columns):\n",
      " #   Column                     Non-Null Count  Dtype  \n",
      "---  ------                     --------------  -----  \n",
      " 0   URL                        1781 non-null   object \n",
      " 1   URL_LENGTH                 1781 non-null   int64  \n",
      " 2   NUMBER_SPECIAL_CHARACTERS  1781 non-null   int64  \n",
      " 3   CHARSET                    1781 non-null   object \n",
      " 4   SERVER                     1780 non-null   object \n",
      " 5   CONTENT_LENGTH             969 non-null    float64\n",
      " 6   WHOIS_COUNTRY              1781 non-null   object \n",
      " 7   WHOIS_STATEPRO             1781 non-null   object \n",
      " 8   WHOIS_REGDATE              1781 non-null   object \n",
      " 9   WHOIS_UPDATED_DATE         1781 non-null   object \n",
      " 10  TCP_CONVERSATION_EXCHANGE  1781 non-null   int64  \n",
      " 11  DIST_REMOTE_TCP_PORT       1781 non-null   int64  \n",
      " 12  REMOTE_IPS                 1781 non-null   int64  \n",
      " 13  APP_BYTES                  1781 non-null   int64  \n",
      " 14  SOURCE_APP_PACKETS         1781 non-null   int64  \n",
      " 15  REMOTE_APP_PACKETS         1781 non-null   int64  \n",
      " 16  SOURCE_APP_BYTES           1781 non-null   int64  \n",
      " 17  REMOTE_APP_BYTES           1781 non-null   int64  \n",
      " 18  APP_PACKETS                1781 non-null   int64  \n",
      " 19  DNS_QUERY_TIMES            1780 non-null   float64\n",
      " 20  Type                       1781 non-null   int64  \n",
      "dtypes: float64(2), int64(12), object(7)\n",
      "memory usage: 292.3+ KB\n"
     ]
    }
   ],
   "source": [
    "websites.info()"
   ]
  },
  {
   "cell_type": "code",
   "execution_count": 5,
   "metadata": {},
   "outputs": [
    {
     "data": {
      "text/html": [
       "<div>\n",
       "<style scoped>\n",
       "    .dataframe tbody tr th:only-of-type {\n",
       "        vertical-align: middle;\n",
       "    }\n",
       "\n",
       "    .dataframe tbody tr th {\n",
       "        vertical-align: top;\n",
       "    }\n",
       "\n",
       "    .dataframe thead th {\n",
       "        text-align: right;\n",
       "    }\n",
       "</style>\n",
       "<table border=\"1\" class=\"dataframe\">\n",
       "  <thead>\n",
       "    <tr style=\"text-align: right;\">\n",
       "      <th></th>\n",
       "      <th>URL_LENGTH</th>\n",
       "      <th>NUMBER_SPECIAL_CHARACTERS</th>\n",
       "      <th>CONTENT_LENGTH</th>\n",
       "      <th>TCP_CONVERSATION_EXCHANGE</th>\n",
       "      <th>DIST_REMOTE_TCP_PORT</th>\n",
       "      <th>REMOTE_IPS</th>\n",
       "      <th>APP_BYTES</th>\n",
       "      <th>SOURCE_APP_PACKETS</th>\n",
       "      <th>REMOTE_APP_PACKETS</th>\n",
       "      <th>SOURCE_APP_BYTES</th>\n",
       "      <th>REMOTE_APP_BYTES</th>\n",
       "      <th>APP_PACKETS</th>\n",
       "      <th>DNS_QUERY_TIMES</th>\n",
       "      <th>Type</th>\n",
       "    </tr>\n",
       "  </thead>\n",
       "  <tbody>\n",
       "    <tr>\n",
       "      <th>count</th>\n",
       "      <td>1781.000000</td>\n",
       "      <td>1781.000000</td>\n",
       "      <td>969.000000</td>\n",
       "      <td>1781.000000</td>\n",
       "      <td>1781.000000</td>\n",
       "      <td>1781.000000</td>\n",
       "      <td>1.781000e+03</td>\n",
       "      <td>1781.000000</td>\n",
       "      <td>1781.000000</td>\n",
       "      <td>1.781000e+03</td>\n",
       "      <td>1.781000e+03</td>\n",
       "      <td>1781.000000</td>\n",
       "      <td>1780.000000</td>\n",
       "      <td>1781.000000</td>\n",
       "    </tr>\n",
       "    <tr>\n",
       "      <th>mean</th>\n",
       "      <td>56.961258</td>\n",
       "      <td>11.111735</td>\n",
       "      <td>11726.927761</td>\n",
       "      <td>16.261089</td>\n",
       "      <td>5.472768</td>\n",
       "      <td>3.060640</td>\n",
       "      <td>2.982339e+03</td>\n",
       "      <td>18.540146</td>\n",
       "      <td>18.746210</td>\n",
       "      <td>1.589255e+04</td>\n",
       "      <td>3.155599e+03</td>\n",
       "      <td>18.540146</td>\n",
       "      <td>2.263483</td>\n",
       "      <td>0.121280</td>\n",
       "    </tr>\n",
       "    <tr>\n",
       "      <th>std</th>\n",
       "      <td>27.555586</td>\n",
       "      <td>4.549896</td>\n",
       "      <td>36391.809051</td>\n",
       "      <td>40.500975</td>\n",
       "      <td>21.807327</td>\n",
       "      <td>3.386975</td>\n",
       "      <td>5.605057e+04</td>\n",
       "      <td>41.627173</td>\n",
       "      <td>46.397969</td>\n",
       "      <td>6.986193e+04</td>\n",
       "      <td>5.605378e+04</td>\n",
       "      <td>41.627173</td>\n",
       "      <td>2.930853</td>\n",
       "      <td>0.326544</td>\n",
       "    </tr>\n",
       "    <tr>\n",
       "      <th>min</th>\n",
       "      <td>16.000000</td>\n",
       "      <td>5.000000</td>\n",
       "      <td>0.000000</td>\n",
       "      <td>0.000000</td>\n",
       "      <td>0.000000</td>\n",
       "      <td>0.000000</td>\n",
       "      <td>0.000000e+00</td>\n",
       "      <td>0.000000</td>\n",
       "      <td>0.000000</td>\n",
       "      <td>0.000000e+00</td>\n",
       "      <td>0.000000e+00</td>\n",
       "      <td>0.000000</td>\n",
       "      <td>0.000000</td>\n",
       "      <td>0.000000</td>\n",
       "    </tr>\n",
       "    <tr>\n",
       "      <th>25%</th>\n",
       "      <td>39.000000</td>\n",
       "      <td>8.000000</td>\n",
       "      <td>324.000000</td>\n",
       "      <td>0.000000</td>\n",
       "      <td>0.000000</td>\n",
       "      <td>0.000000</td>\n",
       "      <td>0.000000e+00</td>\n",
       "      <td>0.000000</td>\n",
       "      <td>0.000000</td>\n",
       "      <td>0.000000e+00</td>\n",
       "      <td>0.000000e+00</td>\n",
       "      <td>0.000000</td>\n",
       "      <td>0.000000</td>\n",
       "      <td>0.000000</td>\n",
       "    </tr>\n",
       "    <tr>\n",
       "      <th>50%</th>\n",
       "      <td>49.000000</td>\n",
       "      <td>10.000000</td>\n",
       "      <td>1853.000000</td>\n",
       "      <td>7.000000</td>\n",
       "      <td>0.000000</td>\n",
       "      <td>2.000000</td>\n",
       "      <td>6.720000e+02</td>\n",
       "      <td>8.000000</td>\n",
       "      <td>9.000000</td>\n",
       "      <td>5.790000e+02</td>\n",
       "      <td>7.350000e+02</td>\n",
       "      <td>8.000000</td>\n",
       "      <td>0.000000</td>\n",
       "      <td>0.000000</td>\n",
       "    </tr>\n",
       "    <tr>\n",
       "      <th>75%</th>\n",
       "      <td>68.000000</td>\n",
       "      <td>13.000000</td>\n",
       "      <td>11323.000000</td>\n",
       "      <td>22.000000</td>\n",
       "      <td>5.000000</td>\n",
       "      <td>5.000000</td>\n",
       "      <td>2.328000e+03</td>\n",
       "      <td>26.000000</td>\n",
       "      <td>25.000000</td>\n",
       "      <td>9.806000e+03</td>\n",
       "      <td>2.701000e+03</td>\n",
       "      <td>26.000000</td>\n",
       "      <td>4.000000</td>\n",
       "      <td>0.000000</td>\n",
       "    </tr>\n",
       "    <tr>\n",
       "      <th>max</th>\n",
       "      <td>249.000000</td>\n",
       "      <td>43.000000</td>\n",
       "      <td>649263.000000</td>\n",
       "      <td>1194.000000</td>\n",
       "      <td>708.000000</td>\n",
       "      <td>17.000000</td>\n",
       "      <td>2.362906e+06</td>\n",
       "      <td>1198.000000</td>\n",
       "      <td>1284.000000</td>\n",
       "      <td>2.060012e+06</td>\n",
       "      <td>2.362906e+06</td>\n",
       "      <td>1198.000000</td>\n",
       "      <td>20.000000</td>\n",
       "      <td>1.000000</td>\n",
       "    </tr>\n",
       "  </tbody>\n",
       "</table>\n",
       "</div>"
      ],
      "text/plain": [
       "        URL_LENGTH  NUMBER_SPECIAL_CHARACTERS  CONTENT_LENGTH  \\\n",
       "count  1781.000000                1781.000000      969.000000   \n",
       "mean     56.961258                  11.111735    11726.927761   \n",
       "std      27.555586                   4.549896    36391.809051   \n",
       "min      16.000000                   5.000000        0.000000   \n",
       "25%      39.000000                   8.000000      324.000000   \n",
       "50%      49.000000                  10.000000     1853.000000   \n",
       "75%      68.000000                  13.000000    11323.000000   \n",
       "max     249.000000                  43.000000   649263.000000   \n",
       "\n",
       "       TCP_CONVERSATION_EXCHANGE  DIST_REMOTE_TCP_PORT   REMOTE_IPS  \\\n",
       "count                1781.000000           1781.000000  1781.000000   \n",
       "mean                   16.261089              5.472768     3.060640   \n",
       "std                    40.500975             21.807327     3.386975   \n",
       "min                     0.000000              0.000000     0.000000   \n",
       "25%                     0.000000              0.000000     0.000000   \n",
       "50%                     7.000000              0.000000     2.000000   \n",
       "75%                    22.000000              5.000000     5.000000   \n",
       "max                  1194.000000            708.000000    17.000000   \n",
       "\n",
       "          APP_BYTES  SOURCE_APP_PACKETS  REMOTE_APP_PACKETS  SOURCE_APP_BYTES  \\\n",
       "count  1.781000e+03         1781.000000         1781.000000      1.781000e+03   \n",
       "mean   2.982339e+03           18.540146           18.746210      1.589255e+04   \n",
       "std    5.605057e+04           41.627173           46.397969      6.986193e+04   \n",
       "min    0.000000e+00            0.000000            0.000000      0.000000e+00   \n",
       "25%    0.000000e+00            0.000000            0.000000      0.000000e+00   \n",
       "50%    6.720000e+02            8.000000            9.000000      5.790000e+02   \n",
       "75%    2.328000e+03           26.000000           25.000000      9.806000e+03   \n",
       "max    2.362906e+06         1198.000000         1284.000000      2.060012e+06   \n",
       "\n",
       "       REMOTE_APP_BYTES  APP_PACKETS  DNS_QUERY_TIMES         Type  \n",
       "count      1.781000e+03  1781.000000      1780.000000  1781.000000  \n",
       "mean       3.155599e+03    18.540146         2.263483     0.121280  \n",
       "std        5.605378e+04    41.627173         2.930853     0.326544  \n",
       "min        0.000000e+00     0.000000         0.000000     0.000000  \n",
       "25%        0.000000e+00     0.000000         0.000000     0.000000  \n",
       "50%        7.350000e+02     8.000000         0.000000     0.000000  \n",
       "75%        2.701000e+03    26.000000         4.000000     0.000000  \n",
       "max        2.362906e+06  1198.000000        20.000000     1.000000  "
      ]
     },
     "execution_count": 5,
     "metadata": {},
     "output_type": "execute_result"
    }
   ],
   "source": [
    "websites.describe()"
   ]
  },
  {
   "cell_type": "code",
   "execution_count": 6,
   "metadata": {},
   "outputs": [
    {
     "data": {
      "text/plain": [
       "1781"
      ]
     },
     "execution_count": 6,
     "metadata": {},
     "output_type": "execute_result"
    }
   ],
   "source": [
    "websites['URL'].nunique()"
   ]
  },
  {
   "cell_type": "code",
   "execution_count": 7,
   "metadata": {},
   "outputs": [
    {
     "data": {
      "text/plain": [
       "array(['iso-8859-1', 'UTF-8', 'us-ascii', 'ISO-8859-1', 'utf-8', 'None',\n",
       "       'windows-1251', 'ISO-8859', 'windows-1252'], dtype=object)"
      ]
     },
     "execution_count": 7,
     "metadata": {},
     "output_type": "execute_result"
    }
   ],
   "source": [
    "websites['CHARSET'].unique()"
   ]
  },
  {
   "cell_type": "code",
   "execution_count": 8,
   "metadata": {},
   "outputs": [
    {
     "data": {
      "text/plain": [
       "array(['nginx', 'Apache/2.4.10', 'Microsoft-HTTPAPI/2.0', 'None',\n",
       "       'Apache/2', 'nginx/1.10.1', 'Apache', 'Apache/2.2.15 (Red Hat)',\n",
       "       'Apache/2.4.23 (Unix) OpenSSL/1.0.1e-fips mod_bwlimited/1.4',\n",
       "       'openresty/1.11.2.1', 'Apache/2.2.22', 'Apache/2.4.7 (Ubuntu)',\n",
       "       'nginx/1.12.0',\n",
       "       'Apache/2.4.12 (Unix) OpenSSL/1.0.1e-fips mod_bwlimited/1.4',\n",
       "       'Oracle-iPlanet-Web-Server/7.0', 'cloudflare-nginx', 'nginx/1.6.2',\n",
       "       'openresty', 'Heptu web server', 'Pepyaka/1.11.3', 'nginx/1.8.0',\n",
       "       'nginx/1.10.1 + Phusion Passenger 5.0.30',\n",
       "       'Apache/2.2.29 (Amazon)', 'Microsoft-IIS/7.5', 'LiteSpeed',\n",
       "       'Apache/2.4.25 (cPanel) OpenSSL/1.0.1e-fips mod_bwlimited/1.4',\n",
       "       'tsa_c', 'Apache/2.2.0 (Fedora)', 'Apache/2.2.22 (Debian)',\n",
       "       'Apache/2.2.15 (CentOS)', 'Apache/2.4.25',\n",
       "       'Apache/2.4.25 (Amazon) PHP/7.0.14', 'GSE',\n",
       "       'Apache/2.4.23 (Unix) OpenSSL/0.9.8e-fips-rhel5 mod_bwlimited/1.4',\n",
       "       'Apache/2.4.25 (Amazon) OpenSSL/1.0.1k-fips',\n",
       "       'Apache/2.2.22 (Ubuntu)', 'Tengine',\n",
       "       'Apache/2.4.18 (Unix) OpenSSL/0.9.8e-fips-rhel5 mod_bwlimited/1.4',\n",
       "       'Apache/2.4.10 (Debian)', 'Apache/2.4.6 (CentOS) PHP/5.6.8',\n",
       "       'Sun-ONE-Web-Server/6.1',\n",
       "       'Apache/2.4.18 (Unix) OpenSSL/1.0.2e Communique/4.1.10',\n",
       "       'AmazonS3',\n",
       "       'Apache/1.3.37 (Unix) mod_perl/1.29 mod_ssl/2.8.28 OpenSSL/0.9.7e-p1',\n",
       "       'ATS', 'Apache/2.2.27 (CentOS)',\n",
       "       'Apache/2.2.29 (Unix) mod_ssl/2.2.29 OpenSSL/1.0.1e-fips DAV/2 mod_bwlimited/1.4',\n",
       "       'CherryPy/3.6.0', 'Server', 'KHL',\n",
       "       'Apache/2.4.6 (CentOS) OpenSSL/1.0.1e-fips mod_fcgid/2.3.9 PHP/5.4.16 mod_jk/1.2.40',\n",
       "       'Apache/2.2.3 (CentOS)', 'Apache/2.4',\n",
       "       'Apache/1.3.27 (Unix)  (Red-Hat/Linux) mod_perl/1.26 PHP/4.3.3 FrontPage/5.0.2 mod_ssl/2.8.12 OpenSSL/0.9.6b',\n",
       "       'mw2114.codfw.wmnet',\n",
       "       'Apache/2.2.31 (Unix) mod_ssl/2.2.31 OpenSSL/1.0.1e-fips mod_bwlimited/1.4 mod_perl/2.0.8 Perl/v5.10.1',\n",
       "       'Apache/1.3.34 (Unix) PHP/4.4.4', 'Apache/2.2.31 (Amazon)',\n",
       "       'Jetty(9.0.z-SNAPSHOT)', 'Apache/2.2.31 (CentOS)',\n",
       "       'Apache/2.4.12 (Ubuntu)', 'HTTPDaemon',\n",
       "       'Apache/2.2.29 (Unix) mod_ssl/2.2.29 OpenSSL/1.0.1e-fips mod_bwlimited/1.4',\n",
       "       'MediaFire', 'DOSarrest', 'mw2232.codfw.wmnet',\n",
       "       'Sucuri/Cloudproxy', 'Apache/2.4.23 (Unix)', 'nginx/0.7.65',\n",
       "       'mw2260.codfw.wmnet', 'Apache/2.2.32', 'mw2239.codfw.wmnet',\n",
       "       'DPS/1.1.8', 'Apache/2.0.52 (Red Hat)',\n",
       "       'Apache/2.2.25 (Unix) mod_ssl/2.2.25 OpenSSL/0.9.8e-fips-rhel5 mod_bwlimited/1.4',\n",
       "       'Apache/1.3.31 (Unix) PHP/4.3.9 mod_perl/1.29 rus/PL30.20',\n",
       "       'Apache/2.2.13 (Unix) mod_ssl/2.2.13 OpenSSL/0.9.8e-fips-rhel5 mod_auth_passthrough/2.1 mod_bwlimited/1.4 PHP/5.2.10',\n",
       "       'nginx/1.1.19', 'ATS/5.3.0', 'Apache/2.2.3 (Red Hat)',\n",
       "       'nginx/1.4.3',\n",
       "       'Apache/2.2.29 (Unix) mod_ssl/2.2.29 OpenSSL/1.0.1e-fips mod_bwlimited/1.4 PHP/5.4.35',\n",
       "       'Apache/2.2.14 (FreeBSD) mod_ssl/2.2.14 OpenSSL/0.9.8y DAV/2 PHP/5.2.12 with Suhosin-Patch',\n",
       "       'Apache/2.2.14 (Unix) mod_ssl/2.2.14 OpenSSL/0.9.8e-fips-rhel5',\n",
       "       'Apache/1.3.39 (Unix) PHP/5.2.5 mod_auth_passthrough/1.8 mod_bwlimited/1.4 mod_log_bytes/1.2 mod_gzip/1.3.26.1a FrontPage/5.0.2.2635 DAV/1.0.3 mod_ssl/2.8.30 OpenSSL/0.9.7a',\n",
       "       'SSWS', 'Microsoft-IIS/8.0', 'Apache/2.4.18 (Ubuntu)',\n",
       "       'Apache/2.4.6 (CentOS) OpenSSL/1.0.1e-fips PHP/5.4.16 mod_apreq2-20090110/2.8.0 mod_perl/2.0.10 Perl/v5.24.1',\n",
       "       'Apache/2.2.20 (Unix)', 'YouTubeFrontEnd', 'nginx/1.11.3',\n",
       "       'nginx/1.11.2', 'nginx/1.10.0 (Ubuntu)', 'nginx/1.8.1',\n",
       "       'nginx/1.11.10', 'Squeegit/1.2.5 (3_sir)',\n",
       "       'Virtuoso/07.20.3217 (Linux) i686-generic-linux-glibc212-64  VDB',\n",
       "       'Apache-Coyote/1.1', 'Yippee-Ki-Yay', 'mw2165.codfw.wmnet',\n",
       "       'mw2192.codfw.wmnet', 'Apache/2.2.23 (Amazon)',\n",
       "       'nginx/1.4.6 (Ubuntu)', 'nginx + Phusion Passenger',\n",
       "       'Proxy Pandeiro UOL', 'mw2231.codfw.wmnet', 'openresty/1.11.2.2',\n",
       "       'mw2109.codfw.wmnet', 'nginx/0.8.54', 'Apache/2.4.6',\n",
       "       'mw2225.codfw.wmnet', 'Apache/1.3.27 (Unix) PHP/4.4.1',\n",
       "       'mw2236.codfw.wmnet', 'mw2101.codfw.wmnet', 'Varnish',\n",
       "       'Resin/3.1.8', 'mw2164.codfw.wmnet', 'Microsoft-IIS/8.5',\n",
       "       'mw2242.codfw.wmnet',\n",
       "       'Apache/2.4.6 (CentOS) OpenSSL/1.0.1e-fips PHP/5.5.38',\n",
       "       'mw2175.codfw.wmnet', 'mw2107.codfw.wmnet', 'mw2190.codfw.wmnet',\n",
       "       'Apache/2.4.6 (CentOS)', 'nginx/1.13.0', 'barista/5.1.3',\n",
       "       'mw2103.codfw.wmnet', 'Apache/2.4.25 (Debian)', 'ECD (fll/0790)',\n",
       "       'Pagely Gateway/1.5.1', 'nginx/1.10.3',\n",
       "       'Apache/2.4.25 (FreeBSD) OpenSSL/1.0.1s-freebsd PHP/5.6.30',\n",
       "       'mw2097.codfw.wmnet', 'mw2233.codfw.wmnet', 'fbs',\n",
       "       'mw2199.codfw.wmnet', 'mw2255.codfw.wmnet', 'mw2228.codfw.wmnet',\n",
       "       'Apache/2.2.31 (Unix) mod_ssl/2.2.31 OpenSSL/1.0.1e-fips mod_bwlimited/1.4 mod_fcgid/2.3.9',\n",
       "       'gunicorn/19.7.1',\n",
       "       'Apache/2.2.31 (Unix) mod_ssl/2.2.31 OpenSSL/0.9.8e-fips-rhel5 mod_bwlimited/1.4',\n",
       "       'Apache/2.4.6 (CentOS) OpenSSL/1.0.1e-fips PHP/5.4.16',\n",
       "       'mw2241.codfw.wmnet',\n",
       "       'Apache/1.3.33 (Unix) mod_ssl/2.8.24 OpenSSL/0.9.7e-p1 PHP/4.4.8',\n",
       "       'lighttpd', 'mw2230.codfw.wmnet',\n",
       "       'Apache/2.4.6 (CentOS) OpenSSL/1.0.1e-fips', 'AkamaiGHost',\n",
       "       'mw2240.codfw.wmnet', 'nginx/1.10.2', 'PWS/8.2.0.7', 'nginx/1.2.1',\n",
       "       'nxfps',\n",
       "       'Apache/2.2.16 (Unix) mod_ssl/2.2.16 OpenSSL/0.9.8e-fips-rhel5 mod_auth_passthrough/2.1 mod_bwlimited/1.4',\n",
       "       'Play', 'mw2185.codfw.wmnet',\n",
       "       'Apache/2.4.10 (Unix) OpenSSL/1.0.1k',\n",
       "       'Apache/Not telling (Unix) AuthTDS/1.1',\n",
       "       'Apache/2.2.11 (Unix) PHP/5.2.6', 'Scratch Web Server',\n",
       "       'marrakesh 1.12.2', 'nginx/0.8.35', 'mw2182.codfw.wmnet',\n",
       "       'squid/3.3.8', 'nginx/1.10.0', 'Nginx (OpenBSD)',\n",
       "       'Zope/(2.13.16; python 2.6.8; linux2) ZServer/1.1',\n",
       "       'Apache/2.2.26 (Unix) mod_ssl/2.2.26 OpenSSL/0.9.8e-fips-rhel5 mod_bwlimited/1.4 PHP/5.4.26',\n",
       "       'Apache/2.2.21 (Unix) mod_ssl/2.2.21 OpenSSL/0.9.8e-fips-rhel5 PHP/5.3.10',\n",
       "       'Apache/2.2.27 (Unix) OpenAM Web Agent/4.0.1-1 mod_ssl/2.2.27 OpenSSL/1.0.1p PHP/5.3.28',\n",
       "       'mw2104.codfw.wmnet', '.V01 Apache', 'mw2110.codfw.wmnet',\n",
       "       'Apache/2.4.6 (Unix) mod_jk/1.2.37 PHP/5.5.1 OpenSSL/1.0.1g mod_fcgid/2.3.9',\n",
       "       'mw2176.codfw.wmnet', 'mw2187.codfw.wmnet', 'mw2106.codfw.wmnet',\n",
       "       'Microsoft-IIS/7.0',\n",
       "       'Apache/1.3.42 Ben-SSL/1.60 (Unix) mod_gzip/1.3.26.1a mod_fastcgi/2.4.6 mod_throttle/3.1.2 Chili!Soft-ASP/3.6.2 FrontPage/5.0.2.2635 mod_perl/1.31 PHP/4.4.9',\n",
       "       'Aeria Games & Entertainment', 'nginx/1.6.3 + Phusion Passenger',\n",
       "       'Apache/2.4.10 (Debian) PHP/5.6.30-0+deb8u1 mod_perl/2.0.9dev Perl/v5.20.2',\n",
       "       'mw2173.codfw.wmnet',\n",
       "       'Apache/2.4.6 (Red Hat Enterprise Linux) OpenSSL/1.0.1e-fips mod_fcgid/2.3.9 Communique/4.2.0',\n",
       "       'Apache/2.2.15 (CentOS) DAV/2 mod_ssl/2.2.15 OpenSSL/1.0.1e-fips PHP/5.3.3',\n",
       "       'Apache/2.4.6 (CentOS) OpenSSL/1.0.1e-fips PHP/7.0.14',\n",
       "       'mw2198.codfw.wmnet', 'mw2172.codfw.wmnet', 'nginx/1.2.6',\n",
       "       'Apache/2.4.6 (Unix) mod_jk/1.2.37',\n",
       "       'Apache/2.4.25 (Unix) OpenSSL/1.0.1e-fips mod_bwlimited/1.4',\n",
       "       'nginx/1.4.4', 'Cowboy', 'mw2113.codfw.wmnet',\n",
       "       'Apache/2.2.14 (Unix) mod_ssl/2.2.14 OpenSSL/0.9.8a',\n",
       "       'Apache/2.4.10 (Ubuntu)', 'mw2224.codfw.wmnet',\n",
       "       'mw2171.codfw.wmnet', 'mw2257.codfw.wmnet', 'mw2226.codfw.wmnet',\n",
       "       'DMS/1.0.42', 'nginx/1.6.3', 'Application-Server', nan,\n",
       "       'Apache/2.4.6 (CentOS) mod_fcgid/2.3.9 PHP/5.6.30',\n",
       "       'mw2177.codfw.wmnet', 'lighttpd/1.4.28', 'mw2197.codfw.wmnet',\n",
       "       'Apache/2.2.31 (FreeBSD) PHP/5.4.15 mod_ssl/2.2.31 OpenSSL/1.0.2d DAV/2',\n",
       "       'Apache/2.2.26 (Unix) mod_ssl/2.2.26 OpenSSL/1.0.1e-fips DAV/2 mod_bwlimited/1.4',\n",
       "       'Apache/2.2.24 (Unix) DAV/2 PHP/5.3.26 mod_ssl/2.2.24 OpenSSL/0.9.8y',\n",
       "       'mw2178.codfw.wmnet', '294', 'Microsoft-IIS/6.0', 'nginx/1.7.4',\n",
       "       'Apache/2.2.22 (Debian) mod_python/3.3.1 Python/2.7.3 mod_ssl/2.2.22 OpenSSL/1.0.1t',\n",
       "       'Apache/2.4.16 (Ubuntu)', 'www.lexisnexis.com  9999',\n",
       "       'nginx/0.8.38', 'mw2238.codfw.wmnet', 'Pizza/pepperoni',\n",
       "       'XXXXXXXXXXXXXXXXXXXXXX', 'MI', 'Roxen/5.4.98-r2',\n",
       "       'Apache/2.2.31 (Unix) mod_ssl/2.2.31 OpenSSL/1.0.1e-fips mod_bwlimited/1.4',\n",
       "       'nginx/1.9.13', 'mw2180.codfw.wmnet', 'Apache/2.2.14 (Ubuntu)',\n",
       "       'ebay server', 'nginx/0.8.55', 'Apache/2.2.10 (Linux/SUSE)',\n",
       "       'nginx/1.7.12',\n",
       "       'Apache/2.0.63 (Unix) mod_ssl/2.0.63 OpenSSL/0.9.8e-fips-rhel5 mod_auth_passthrough/2.1 mod_bwlimited/1.4 PHP/5.3.6',\n",
       "       'Boston.com Frontend', 'My Arse', 'IdeaWebServer/v0.80',\n",
       "       'Apache/2.4.17 (Unix) OpenSSL/1.0.1e-fips PHP/5.6.19',\n",
       "       'Microsoft-IIS/7.5; litigation_essentials.lexisnexis.com  9999',\n",
       "       'Apache/2.2.16 (Debian)'], dtype=object)"
      ]
     },
     "execution_count": 8,
     "metadata": {},
     "output_type": "execute_result"
    }
   ],
   "source": [
    "websites['SERVER'].unique()"
   ]
  },
  {
   "cell_type": "code",
   "execution_count": 9,
   "metadata": {},
   "outputs": [
    {
     "data": {
      "text/plain": [
       "array(['None', 'US', 'SC', 'GB', 'UK', 'RU', 'AU', 'CA', 'PA', 'se', 'IN',\n",
       "       'LU', 'TH', \"[u'GB'; u'UK']\", 'FR', 'NL', 'UG', 'JP', 'CN', 'SE',\n",
       "       'SI', 'IL', 'ru', 'KY', 'AT', 'CZ', 'PH', 'BE', 'NO', 'TR', 'LV',\n",
       "       'DE', 'ES', 'BR', 'us', 'KR', 'HK', 'UA', 'CH', 'United Kingdom',\n",
       "       'BS', 'PK', 'IT', 'Cyprus', 'BY', 'AE', 'IE', 'UY', 'KG'],\n",
       "      dtype=object)"
      ]
     },
     "execution_count": 9,
     "metadata": {},
     "output_type": "execute_result"
    }
   ],
   "source": [
    "websites['WHOIS_COUNTRY'].unique()"
   ]
  },
  {
   "cell_type": "code",
   "execution_count": 10,
   "metadata": {
    "scrolled": true
   },
   "outputs": [
    {
     "data": {
      "text/plain": [
       "array(['None', 'AK', 'TX', 'Mahe', 'CO', 'FL', 'Kansas',\n",
       "       'Novosibirskaya obl.', 'CA', 'Tennessee', 'Vi', 'OR', 'Texas',\n",
       "       'ALBERTA', 'PANAMA', 'Arizona', 'WI', 'Oregon', 'Andhra Pradesh',\n",
       "       'AB', 'Tamil Nadu', 'VA', 'NY', 'quebec', 'MA', 'ON', 'New Mexico',\n",
       "       'British Columbia', 'Massachusetts', 'California', 'bangkok',\n",
       "       'WEST MIDLANDS', 'TEXAS', 'WC1N', 'Kentucky', 'MD', 'NEW YORK',\n",
       "       'Washington', 'Colorado', 'PA', 'LA', 'WA', 'Queensland', 'MOSCOW',\n",
       "       'UK', 'P', 'NH', 'Pennsylvania', 'UTTAR PRADESH', 'NC', 'kireka',\n",
       "       'IL', 'Missouri', 'Osaka', 'QC', 'Michigan', 'Maryland', 'Ontario',\n",
       "       'South Carolina', 'Zhejiang', 'New York', 'QLD', 'NJ', 'GA', 'MO',\n",
       "       'HR', 'ab', 'Greater London', 'Illinois', '--', 'Fukuoka', 'BC',\n",
       "       'AL', 'Krasnoyarsk', 'MAINE', 'Virginia', 'MH', 'GRAND CAYMAN',\n",
       "       'Austria', 'DE', 'shandong', 'AZ', 'PRAHA', 'beijingshi',\n",
       "       'liaoningsheng', 'North Carolina', 'OH', 'Manila', 'Utah', 'MI',\n",
       "       'NSW', 'UT', 'New South Wales', 'WV', 'Ohio', 'RIX', 'TR', 'nj',\n",
       "       'Panama', 'SK', 'ca', 'Alicante', 'New Jersey', 'Vic', 'ME',\n",
       "       'worcs', 'Maine', 'London', 'Karnataka', 'Quebec', 'Indiana',\n",
       "       'NEW SOUTH WALES', '6110021', 'Not Applicable', 'Peterborough',\n",
       "       'CT', 'Minnesota', 'NOT APPLICABLE', 'VIC', 'Noord-Holland',\n",
       "       'CALIFORNIA', 'Nevada', 'Nebraska', 'ILOCOS NORTE R3', 'NV', 'MB',\n",
       "       'Florida', 'Central', 'Maharashtra', 'widestep@mail.ru', 'VERMONT',\n",
       "       'ZH', 'hunansheng', 'NONE', 'Wisconsin', 'UTAH', 'Utr', 'Bei Jing',\n",
       "       '-', 'Manitoba', 'ALABAMA', 'New Providence', 'Punjab', 'qc',\n",
       "       'Connecticut', 'il', 'Berlin', 'INDAL', 'RM', 'va', 'ny',\n",
       "       'MAHARASHTR', 'ONTARIO', 'Haryana', 'MIDDLESEX', 'Rogaland',\n",
       "       'District of Columbia', 'DC', 'HANTS', 'Zug', 'VT', 'TN',\n",
       "       'ANTWERP', 'CH', 'TOKYO-TO', 'Saskatchewan', 'Alabama', 'Tottori',\n",
       "       'Arkansas', 'OK', 'Dubai', 'KS', 'Barcelona', 'CO. DUBLIN',\n",
       "       'Metro Manila', 'Montevideo', 'KG', 'FLORIDA', 'Other', 'QUEBEC',\n",
       "       'bc', 'Paris'], dtype=object)"
      ]
     },
     "execution_count": 10,
     "metadata": {},
     "output_type": "execute_result"
    }
   ],
   "source": [
    "websites['WHOIS_STATEPRO'].unique()"
   ]
  },
  {
   "cell_type": "code",
   "execution_count": 11,
   "metadata": {},
   "outputs": [
    {
     "data": {
      "text/plain": [
       "array(['10/10/2015 18:21', 'None', '7/10/1997 4:00', '12/05/1996 0:00',\n",
       "       '3/08/2016 14:30', '29/07/2002 0:00', '18/03/1997 0:00',\n",
       "       '8/11/2014 7:41', '14/09/2007 0:00', '22/11/2016 0:00',\n",
       "       '11/10/2002 0:00', '14/11/2002 0:00', '16/07/2000 0:00',\n",
       "       '25/05/2013 0:00', '9/08/1999 0:00', '15/09/2013 0:00',\n",
       "       '3/07/1999 0:00', '2/11/2003 0:00', '12/08/2008 22:10',\n",
       "       '21/05/2009 0:00', '1/08/2002 0:00', '13/01/2005 0:00',\n",
       "       '18/05/2005 19:41', '4/01/2001 0:00', '28/02/2008 10:58',\n",
       "       '8/12/2006 0:00', '16/06/2000 0:00', '13/10/2000 0:00',\n",
       "       '31/12/1999 0:00', '30/07/1996 0:00', '9/05/2008 0:00',\n",
       "       '23/04/1999 0:00', '4/02/1997 0:00', '13/02/2003 0:00',\n",
       "       '17/05/2008 0:00', '30/05/2002 0:00', '20/10/2005 0:00',\n",
       "       '7/01/2006 0:00', '5/03/1996 5:00', '23/03/1995 0:00',\n",
       "       '10/01/1998 0:00', '27/04/2016 0:00', '7/04/2011 0:00',\n",
       "       '26/02/2009 0:00', '3/07/2002 0:00', '21/02/1995 0:00',\n",
       "       '4/07/2007 0:00', '2/07/1998 0:00', '10/03/2005 0:00',\n",
       "       '15/12/2004 0:00', '25/02/2008 0:00', '27/01/2005 0:00',\n",
       "       '14/09/2006 0:00', '30/04/2010 14:12', '22/04/1997 0:00',\n",
       "       '16/07/2016 0:00', '27/11/2016 19:09', '30/10/2009 0:00',\n",
       "       '12/03/2009 21:00', '9/03/2000 17:50', '30/05/2008 0:00',\n",
       "       '25/09/2000 0:00', '9/04/2002 0:00', '11/01/1997 0:00',\n",
       "       '11/06/2000 0:00', '13/02/2002 19:55', '19/12/2007 0:00',\n",
       "       '6/11/1997 0:00', '21/01/2000 0:00', '27/04/2009 0:00',\n",
       "       '11/10/2000 0:00', '4/08/1998 0:00', '31/05/2000 0:00',\n",
       "       '23/10/1999 0:00', '23/06/2010 0:00', '9/03/2000 0:00',\n",
       "       '13/04/1994 0:00', '9/06/2010 0:00', '29/04/2009 0:00',\n",
       "       '19/01/2015 0:00', '11/11/2015 0:00', '22/03/2017 0:00',\n",
       "       '3/11/2009 0:00', '19/07/2010 20:03', '28/04/1997 0:00',\n",
       "       '4/03/1996 0:00', '24/10/2007 0:00', '21/10/2004 0:00',\n",
       "       '2002-03-20T23:59:59.0Z', '29/03/1997 0:00', '10/06/2008 0:00',\n",
       "       '30/11/1999 0:00', '30/08/2004 0:00', '11/11/1996 0:00',\n",
       "       '2/10/1995 4:00', '28/06/2011 0:00', '16/08/2016 0:00',\n",
       "       '9/05/2000 17:31', '31/07/2000 0:00', '14/05/1999 0:00',\n",
       "       '24/04/2009 0:00', '6/08/1998 0:00', '22/02/1996 0:00',\n",
       "       '15/06/2007 0:00', '21/09/2009 0:00', '20/01/1995 0:00',\n",
       "       '28/03/2006 0:00', '28/09/2007 16:06', '4/02/2017 0:00',\n",
       "       '7/03/1996 0:00', '4/04/2003 0:00', '26/08/2015 0:00',\n",
       "       '22/07/2004 0:00', '30/11/2004 0:00', '5/03/2008 0:00',\n",
       "       '8/05/2003 0:00', '2/11/2010 21:52', '23/05/2006 0:00',\n",
       "       '2/12/1998 0:00', '15/04/1999 0:00', '30/05/2003 0:00',\n",
       "       '10/01/2002 0:57', '17/03/2006 0:00', '1/03/1999 0:00',\n",
       "       '1/07/2015 0:00', '22/01/2006 0:00', '6/03/1996 5:00',\n",
       "       '8/02/2013 0:00', '15/04/2003 0:00', '24/10/1996 0:00',\n",
       "       '30/04/2016 0:00', '30/12/1999 0:00', '13/07/2001 0:00',\n",
       "       '29/05/1996 0:00', '25/02/2004 0:00', '18/01/1995 0:00',\n",
       "       '25/10/2014 0:00', '20/05/1996 0:00', '14/07/2000 0:00',\n",
       "       '1/12/1996 5:00', '11/11/2000 0:00', '4/09/2004 0:00',\n",
       "       '9/09/2005 13:44', '7/08/1996 0:00', '30/12/2005 0:00',\n",
       "       '4/04/2006 0:00', '25/05/2000 0:00', '5/01/1996 0:00',\n",
       "       '9/07/2008 0:00', '10/05/2006 20:00', '29/07/2006 0:00',\n",
       "       '27/09/2010 0:00', '31/10/2008 0:00', '3/03/2000 0:00',\n",
       "       '2/04/2008 0:00', '6/09/2016 0:00', '11/02/1997 0:00',\n",
       "       '6/08/1995 0:00', '23/10/2008 0:00', '19/02/2009 0:00',\n",
       "       '30/08/1998 0:00', '14/12/2006 0:00', '22/03/2005 3:36',\n",
       "       '26/06/2009 0:00', '9/02/2000 14:17', '8/06/2007 0:00',\n",
       "       '1/11/1994 0:00', '8/08/2013 0:00', '20/04/2000 0:00',\n",
       "       '12/11/2016 0:00', '8/02/2000 0:00', '25/09/2003 0:00',\n",
       "       '13/01/2001 0:12', '10/05/2002 0:00', '7/06/2005 0:00',\n",
       "       '19/08/2012 0:00', '28/04/2003 0:00', '12/03/1999 0:00',\n",
       "       '30/03/2011 0:00', '14/01/2008 0:00', '26/03/2000 0:00',\n",
       "       '2/11/2002 0:00', '10/04/2010 0:00', '6/05/2010 16:44',\n",
       "       '17/08/1999 12:43', '4/10/2006 0:00', '9/03/2007 0:00',\n",
       "       '31/05/1996 0:00', '29/07/2004 0:00', '17/01/2005 0:00',\n",
       "       '1/06/2005 0:00', '22/12/1999 0:00', '11/08/2002 0:00',\n",
       "       '17/11/2003 0:00', '14/08/2008 0:00', '22/08/2010 0:00',\n",
       "       '8/07/1996 0:00', '21/03/2014 0:00', '22/10/1998 0:00',\n",
       "       '8/07/2010 0:00', '17/07/2009 0:00', '24/05/2001 20:47',\n",
       "       '27/06/2004 0:00', '4/03/2004 0:00', '1/06/2004 0:00',\n",
       "       '13/12/1995 0:00', '10/11/2000 0:00', '30/10/2003 0:00',\n",
       "       '9/05/1998 0:00', '5/10/2006 0:00', '14/10/2005 0:00',\n",
       "       '8/09/2003 0:00', '13/07/2008 0:00', '22/08/1996 0:00',\n",
       "       '1/05/2002 0:00', '10/06/2005 0:00', '7/09/2000 0:00',\n",
       "       '31/12/2015 0:00', '8/12/2007 0:00', '6/04/2008 0:00',\n",
       "       '16/07/1998 0:00', '9/02/2001 0:00', '28/12/1999 0:00',\n",
       "       '21/01/2008 0:00', '27/02/1996 0:00', '7/10/2006 0:00',\n",
       "       '18/12/2004 0:00', '9/02/2009 0:00', '4/11/1998 0:00',\n",
       "       '4/11/2016 0:00', '15/04/2004 0:00', '2/07/2010 0:00',\n",
       "       '12/11/2007 20:49', '22/02/2006 0:00', '5/06/2000 0:00',\n",
       "       '9/12/1996 0:00', '14/10/1999 0:00', '10/05/2006 23:10',\n",
       "       '22/02/2001 0:00', '11/09/1997 4:00', '16/10/2000 0:00',\n",
       "       '8/06/2006 0:00', '18/04/2001 0:00', '5/08/1993 0:00',\n",
       "       '17/02/2011 0:00', '24/10/1999 0:00', '2/11/1996 0:00',\n",
       "       '14/02/2000 0:00', '14/09/2009 8:39', '24/05/2000 0:00',\n",
       "       '18/07/2005 0:00', '28/10/1999 0:00', '25/02/2006 0:00',\n",
       "       '12/06/2007 0:00', '18/04/1995 0:00', '25/04/2000 0:00',\n",
       "       '5/12/1997 0:00', '24/09/1996 0:00', '10/01/1992 0:00',\n",
       "       '17/07/2001 0:00', '14/07/2011 0:00', '21/09/2001 0:00',\n",
       "       '5/06/2003 0:00', '5/12/1996 0:00', '19/02/2002 1:02',\n",
       "       '28/11/1999 0:00', '26/05/1997 0:00', '5/07/2008 0:00',\n",
       "       '7/04/2007 0:00', '9/04/2011 16:13', '29/01/2004 16:01',\n",
       "       '17/02/1999 5:00', '27/02/2000 15:05', '21/07/1995 0:00',\n",
       "       '8/08/2002 0:00', '15/02/2005 0:00', '8/01/2009 10:56',\n",
       "       '1/07/2007 5:40', '21/10/2006 0:00', '30/08/2000 0:00',\n",
       "       '14/09/1995 0:00', '14/09/2000 8:47', '17/02/2006 0:00',\n",
       "       '10/07/2002 0:00', '4/09/1996 4:00', '15/05/2005 0:00',\n",
       "       '8/01/2004 0:00', '10/11/2009 0:00', '26/11/1996 0:00',\n",
       "       '2/08/2010 0:00', '24/08/2003 0:00', '19/07/2010 0:00',\n",
       "       '28/10/2008 0:00', '24/06/2003 0:00', '28/02/2008 0:00',\n",
       "       '22/09/1993 0:00', '29/09/1994 0:00', '7/11/2016 0:00',\n",
       "       '30/07/2009 4:01', '10/01/2007 15:27', '19/10/2005 0:00',\n",
       "       '13/09/2001 23:03', '2/10/2005 0:00', '27/08/2002 0:00',\n",
       "       '28/09/1996 0:00', '5/06/2006 0:00', '22/03/2006 0:00',\n",
       "       '20/10/1998 0:00', '23/04/2002 18:56', '26/09/2005 0:00',\n",
       "       '4/01/1995 0:00', '30/07/2004 0:00', '5/11/2008 0:00',\n",
       "       '29/12/2005 0:00', '17/02/2009 0:00', '2/12/2005 0:00',\n",
       "       '8/11/1998 0:00', '12/02/2002 0:00', '8/04/1996 0:00',\n",
       "       '8/05/1996 0:00', '2/03/1999 0:00', '17/12/2007 0:00',\n",
       "       '3/06/2000 0:00', '21/11/2016 0:00', '8/09/2007 0:00',\n",
       "       '25/10/2006 0:00', '18/10/1994 0:00', '23/10/1996 0:00',\n",
       "       '4/11/2003 0:00', '30/07/2002 0:00', '9/12/2008 0:00',\n",
       "       '9/03/2010 0:00', '4/07/2001 23:21', '8/03/2016 0:00',\n",
       "       '23/02/2010 0:00', '6/07/2016 14:30', '16/01/2016 0:00',\n",
       "       '13/06/1997 0:00', '22/07/2005 18:52', '7/04/2002 20:00',\n",
       "       '5/03/2013 20:51', '24/05/2004 0:00', '30/01/2006 0:00',\n",
       "       '19/12/1997 0:00', '30/11/2006 0:00', '14/04/1999 0:00',\n",
       "       '27/05/2008 0:00', '8/05/2004 20:53', '16/08/1999 0:00',\n",
       "       '4/08/1995 0:00', '18/07/2002 0:00', '23/11/1994 0:00',\n",
       "       '30/08/2015 0:00', '30/04/2009 0:00', '27/11/2006 0:00',\n",
       "       '13/02/2017 0:00', '29/09/2015 0:00', '19/08/2004 0:00',\n",
       "       '18/03/2016 0:00', '6/12/2010 0:00', '23/06/2003 0:00',\n",
       "       '3/08/2004 0:00', '14/05/2002 0:00', '26/04/2001 0:00',\n",
       "       '9/05/2004 18:06', '5/11/1997 5:00', '8/12/1995 0:00',\n",
       "       '27/06/2001 0:00', '13/11/2002 0:00', '30/01/1996 0:00',\n",
       "       '16/07/1999 0:00', '23/06/2006 0:00', '26/09/2003 0:00',\n",
       "       '10/04/2002 0:00', '11/11/2006 0:00', '20/04/1995 4:00',\n",
       "       '3/05/2015 0:00', '4/02/2005 0:00', '16/09/1996 4:00',\n",
       "       '20/07/2006 0:00', '9/12/2003 0:00', '12/03/2008 0:00',\n",
       "       '13/09/2000 0:00', '5/02/1999 0:00', '10/05/2000 0:00',\n",
       "       '25/01/1995 0:00', '5/10/2005 0:00', '28/06/2006 0:00',\n",
       "       '25/06/1997 0:00', '9/01/1998 0:00', '17/03/2000 0:00',\n",
       "       '9/10/2016 17:08', '29/02/2008 0:00', '18/05/2001 0:00',\n",
       "       '30/10/2002 0:00', '19/12/2000 0:00', '13/05/1998 0:00',\n",
       "       '9/08/2009 0:00', '29/07/2007 0:00', '15/07/2009 0:00',\n",
       "       '27/09/2000 0:00', '8/08/2001 0:00', '27/11/2002 0:00',\n",
       "       '12/03/2009 1:58', '8/11/1993 0:00', '25/07/1998 0:00',\n",
       "       '16/11/1999 0:00', '20/07/1998 4:00', '7/04/2003 0:00',\n",
       "       '4/06/2009 0:00', '29/11/2000 0:00', '3/02/1999 0:00',\n",
       "       '18/10/2000 0:00', '6/10/2005 0:00', '22/09/2009 0:00',\n",
       "       '18/01/1994 0:00', '13/09/1996 4:00', '21/07/2008 0:00',\n",
       "       '30/01/2007 0:00', '11/03/2017 0:00', '25/08/2004 0:00',\n",
       "       '16/05/2001 0:00', '22/11/2003 0:00', '14/10/2016 0:00',\n",
       "       '26/07/1995 0:00', '22/04/1999 0:00', '26/05/2006 0:00',\n",
       "       '6/08/2002 0:00', '7/03/2000 0:00', '8/07/2000 0:00',\n",
       "       '3/12/1999 0:00', '15/11/1998 0:00', '11/11/2007 0:00',\n",
       "       '19/07/2004 0:00', '2/09/2003 0:00', '28/08/1998 0:00',\n",
       "       '4/10/2003 0:00', '2/10/2007 0:00', '24/04/2007 0:00',\n",
       "       '15/12/2010 0:00', '1/06/2001 0:00', '22/08/2007 0:00',\n",
       "       '26/01/2001 0:00', '6/06/2007 0:00', '19/09/2002 0:00',\n",
       "       '28/07/1995 0:00', '8/05/2001 0:00', '18/10/2002 0:00',\n",
       "       '18/10/2004 0:00', '5/11/1997 0:00', '28/03/2000 0:00',\n",
       "       '12/04/2000 0:00', '28/11/2006 0:00', '24/02/1996 0:00',\n",
       "       '21/12/2005 0:00', '1/07/1998 0:00', '5/05/2004 0:00',\n",
       "       '2/12/2004 0:00', '10/08/1998 0:00', '13/04/2005 0:00',\n",
       "       '14/08/2000 0:00', '25/06/2002 0:00', '22/06/2014 0:00',\n",
       "       '24/05/2015 0:00', '5/08/1999 0:00', '21/08/1998 0:00',\n",
       "       '28/08/2003 0:00', '9/03/2004 0:00', '3/01/2002 0:00',\n",
       "       '22/03/2009 0:00', '3/07/2000 17:33', '2/02/1996 0:00',\n",
       "       '19/02/1997 0:00', '23/08/2010 0:00', '23/09/2009 0:00',\n",
       "       '7/10/2005 16:25', '20/09/1995 0:00', '30/01/2003 0:00',\n",
       "       '22/11/2000 0:00', '6/11/2001 1:42', '11/11/1999 0:00',\n",
       "       '26/07/1990 0:00', '26/07/2003 0:00', '16/05/1995 0:00',\n",
       "       '26/04/2004 0:00', '9/03/2006 0:00', '23/07/2011 0:00',\n",
       "       '9/12/2002 0:00', '2/04/1999 0:00', '21/05/2007 21:12',\n",
       "       '4/10/1996 0:00', '1/05/1996 0:00', '31/01/1995 5:00',\n",
       "       '22/02/2007 0:00', '6/12/1994 0:00', '2/01/2003 0:00',\n",
       "       '6/10/1999 0:00', '11/06/2003 0:00', '30/12/1996 0:00',\n",
       "       '27/02/1998 5:00', '11/01/1999 0:00', '4/01/2007 0:00',\n",
       "       '4/11/2004 22:27', '21/01/2007 22:31', '20/11/2007 0:00',\n",
       "       '12/12/2003 0:00', '4/05/2001 0:00', '9/09/2002 0:00',\n",
       "       '15/02/2000 0:00', '1/03/2005 0:00', '21/02/1992 0:00',\n",
       "       '15/10/2005 0:00', '1/06/1996 0:00', '5/03/2005 0:00',\n",
       "       '14/04/1998 0:00', '2/06/1994 0:00', '31/05/1995 0:00',\n",
       "       '2/03/1995 0:00', '18/01/2008 0:00', '22/03/1999 0:00',\n",
       "       '27/05/1998 0:00', '17/09/1998 0:00', '7/05/1998 0:00',\n",
       "       '5/11/2003 0:00', '23/10/1994 0:00', '24/05/2010 0:00',\n",
       "       '14/10/2007 12:24', '25/11/2016 0:00', '30/09/2002 0:00',\n",
       "       '9/02/2007 0:00', '10/02/1999 0:00', '7/08/1995 0:00',\n",
       "       '21/05/1997 0:00', '10/01/2006 0:00', '31/08/2004 0:00',\n",
       "       '5/12/2005 0:00', '27/05/2002 0:00', '5/05/2001 0:00',\n",
       "       '1/03/2008 0:00', '16/02/2005 0:00', '17/12/2005 0:00',\n",
       "       '2/10/2002 0:00', '6/03/1998 0:00', '29/09/2005 0:00',\n",
       "       '17/07/2000 0:00', '27/06/2015 0:00', '19/02/2005 0:00',\n",
       "       '7/11/1996 0:00', '14/12/1995 5:00', '6/11/1998 0:00',\n",
       "       '29/09/2000 0:00', '30/12/2002 0:00', '15/09/2003 0:00',\n",
       "       '15/09/1997 0:00', '21/05/1998 0:00', '4/01/1997 0:00',\n",
       "       '25/07/2003 18:21', '25/10/2005 0:00', '29/12/1999 0:00',\n",
       "       '1/09/1995 4:00', '16/03/2003 8:22', '22/07/2008 0:00',\n",
       "       '27/09/2013 0:00', '5/11/1999 0:00', 'b', '13/08/2002 0:00',\n",
       "       '1/09/1998 0:00', '8/12/1997 0:00', '16/12/1993 5:00',\n",
       "       '16/02/2001 9:00', '25/02/1999 0:00', '6/08/2004 0:00',\n",
       "       '18/05/2003 7:22', '4/02/2003 0:00', '9/08/2002 18:13',\n",
       "       '29/12/2008 0:00', '31/07/2006 0:00', '16/11/1998 0:00',\n",
       "       '18/04/2000 0:00', '20/04/2001 0:00', '28/09/2005 0:00',\n",
       "       '31/05/2005 0:00', '3/08/1998 0:00', '28/08/2007 0:00',\n",
       "       '19/12/2006 0:00', '16/01/2001 0:00', '12/12/1990 0:00',\n",
       "       '19/07/2016 0:00', '13/11/2003 0:00', '2/12/2000 0:00',\n",
       "       '7/04/2006 16:53', '6/05/2006 0:00', '12/09/2009 21:54',\n",
       "       '4/10/2010 0:00', '18/04/2005 22:11', '1/10/2001 0:00',\n",
       "       '14/07/1998 4:00', '15/08/1995 0:00', '8/09/2004 0:00',\n",
       "       '26/01/2001 12:11', '17/07/2006 0:00', '17/05/2001 0:00',\n",
       "       '7/09/1993 0:00', '7/06/2001 0:00', '13/08/2004 0:00',\n",
       "       '16/06/1996 0:00', '6/11/2007 0:00', '14/06/1995 0:00',\n",
       "       '23/03/1998 0:00', '21/04/2002 0:00', '7/07/2007 0:00',\n",
       "       '31/12/2005 0:00', '17/03/1996 5:00', '19/02/2002 0:00',\n",
       "       '28/04/2005 0:00', '21/06/1997 0:00', '24/04/1999 0:00',\n",
       "       '24/01/2001 0:00', '23/05/1997 0:00', '12/09/2002 0:00',\n",
       "       '20/02/2006 0:00', '21/11/1997 0:00', '19/03/1999 0:00',\n",
       "       '1/09/2016 0:00', '9/08/1995 0:00', '15/04/2010 0:00',\n",
       "       '4/12/2014 0:00', '16/07/1998 16:08', '10/06/1999 0:00',\n",
       "       '28/08/2001 0:00', '12/10/2003 0:00', '14/10/2001 0:00',\n",
       "       '29/09/1998 0:00', '13/06/1995 0:00', '24/09/2006 0:00',\n",
       "       '13/08/2003 0:00', '12/01/1995 0:00', '10/09/2003 0:00',\n",
       "       '9/04/2008 0:00', '25/10/2002 0:00', '21/05/1995 0:00',\n",
       "       '20/01/1998 0:00', '9/08/1996 0:00', '27/01/1999 0:00',\n",
       "       '15/08/2013 0:00', '10/08/1999 0:00', '27/05/1997 0:00',\n",
       "       '13/03/2000 0:00', '3/04/2011 0:00', '16/12/2004 0:00',\n",
       "       '4/06/2010 0:00', '11/10/2005 0:00', '25/10/2003 0:00',\n",
       "       '22/12/2003 0:00', '26/01/2007 0:00', '19/10/2006 0:00',\n",
       "       '21/06/2004 6:33', '3/12/1996 0:00', '9/02/2005 0:00',\n",
       "       '27/03/1998 0:00', '2/05/2005 0:00', '20/03/2002 0:00',\n",
       "       '15/03/2005 0:00', '5/12/1996 5:00', '10/10/2006 0:00',\n",
       "       '1/08/2007 0:00', '3/06/1993 0:00', '22/11/1996 0:00',\n",
       "       '27/04/2007 0:00', '7/04/2006 10:47', '30/03/1994 0:00',\n",
       "       '12/02/1999 0:00', '16/09/1996 0:00', '27/05/2010 0:00',\n",
       "       '24/07/2006 17:52', '5/03/1998 0:00', '28/01/2006 0:00',\n",
       "       '9/10/2014 0:00', '1/02/2003 16:44', '24/10/2000 0:00',\n",
       "       '29/08/2001 0:00', '26/07/2005 0:00', '8/02/1996 0:00',\n",
       "       '2/10/2001 13:00', '12/10/1997 4:00', '16/09/2004 0:00',\n",
       "       '27/07/2003 0:00', '15/07/1999 0:00', '28/07/2007 0:00',\n",
       "       '10/02/2000 0:00', '19/07/2004 14:56', '2/05/1996 0:00',\n",
       "       '24/09/2009 0:00', '7/03/2001 0:00', '2/01/2001 0:00',\n",
       "       '26/01/2006 21:09', '21/12/2006 0:00', '16/11/2016 0:00',\n",
       "       '13/05/2011 0:00', '26/05/1998 0:00', '8/04/2000 0:00',\n",
       "       '5/11/2007 0:00', '19/04/2006 0:00', '1/06/2006 0:00', '0',\n",
       "       '10/03/1998 0:00', '23/01/2004 0:00', '3/03/1999 0:00',\n",
       "       '3/06/1998 0:00', '11/01/2005 0:00', '2/06/2004 0:00',\n",
       "       '11/06/2002 0:00', '15/11/1995 0:00', '15/12/1994 0:00',\n",
       "       '23/07/1999 0:00', '17/08/1995 0:00', '7/09/1995 0:00',\n",
       "       '29/01/2003 23:45', '3/08/1999 0:00', '27/01/2010 0:00',\n",
       "       '28/12/1998 0:00', '18/01/1996 5:00', '17/11/2006 0:00',\n",
       "       '21/05/2006 0:00', '24/11/2001 0:00', '6/09/1997 0:00',\n",
       "       '31/10/1997 0:00', '22/09/2002 0:00', '1/05/2009 0:00',\n",
       "       '8/04/2009 0:00', '10/05/2007 19:20', '8/04/1998 0:00',\n",
       "       '20/10/2003 0:00', '5/08/2008 0:00', '29/03/2008 0:00',\n",
       "       '15/12/2007 0:00', '3/09/1996 4:00', '2/08/2000 0:00',\n",
       "       '5/11/2007 15:14', '9/01/2007 0:00', '29/03/2000 0:00',\n",
       "       '20/03/2005 0:00', '3/07/2000 0:00', '3/10/1997 0:00',\n",
       "       '31/01/1996 0:00', '20/08/2014 0:00', '16/11/1994 0:00',\n",
       "       '16/05/2000 0:00', '14/12/2004 0:00', '2/10/2000 0:00',\n",
       "       '16/06/2014 0:00', '7/02/2006 0:00', '29/04/1994 0:00',\n",
       "       '7/12/2006 0:00', '14/04/2017 0:00', '10/08/1995 0:00',\n",
       "       '18/10/2005 0:00', '23/06/1999 0:00', '3/05/2006 0:00',\n",
       "       '26/05/1994 0:00', '17/08/2010 0:00', '2/03/2000 0:00',\n",
       "       '26/01/2002 0:00', '4/02/1996 0:00', '23/07/2004 0:00',\n",
       "       '17/05/2004 0:00', '19/11/1998 0:00', '18/06/2003 0:00',\n",
       "       '7/07/1999 0:00', '25/02/2005 0:00', '22/08/2003 0:00',\n",
       "       '20/08/2000 0:00', '3/03/2004 0:00', '10/11/1994 0:00',\n",
       "       '9/07/1995 0:00', '22/09/2000 0:00', '17/04/1996 0:00',\n",
       "       '25/11/1995 0:00', '2/04/2009 0:00', '10/12/2010 0:00',\n",
       "       '5/11/1996 5:00', '8/03/2003 0:00', '12/08/2005 0:00',\n",
       "       '23/11/1998 0:00', '14/03/2004 0:00', '27/06/1996 0:00',\n",
       "       '19/05/2016 0:00', '24/05/2006 0:00', '12/02/2000 0:00',\n",
       "       '3/05/2004 0:00', '15/12/1998 0:00', '15/04/2002 0:00',\n",
       "       '5/02/2009 0:00', '7/07/1997 0:00', '5/03/1994 0:00',\n",
       "       '22/05/1995 0:00', '23/04/1996 0:00', '25/03/2010 0:00',\n",
       "       '27/01/1995 0:00', '17/09/2008 0:00', '9/08/1994 0:00',\n",
       "       '26/03/2002 0:00', '26/04/1996 0:00', '19/05/2003 0:00',\n",
       "       '20/10/2000 0:00', '2/07/1999 0:00', '17/03/2009 0:00',\n",
       "       '27/05/2006 0:00', '25/07/1995 0:00', '11/08/2009 0:00',\n",
       "       '24/03/2005 0:00', '29/03/1994 0:00', '1/02/1994 0:00',\n",
       "       '2/01/2016 0:00', '24/02/2008 18:32', '2/12/1997 0:00',\n",
       "       '17/10/2008 0:00', '16/02/2010 0:00', '10/05/1996 0:00',\n",
       "       '27/01/2007 0:00', '8/06/2009 3:48', '19/04/2003 0:00',\n",
       "       '20/12/1999 0:00', '29/12/2007 0:00', '10/01/2000 0:00',\n",
       "       '17/05/2007 0:00', '10/08/2016 0:00', '23/12/1995 0:00',\n",
       "       '3/01/2009 0:00', '22/11/1995 0:00', '26/06/2007 0:00',\n",
       "       '1/03/1994 0:00', '13/12/1993 5:00', '14/12/2009 0:00',\n",
       "       '1/04/2008 22:47', '28/11/1994 0:00', '9/12/1998 0:00',\n",
       "       '6/09/2005 0:00', '7/11/2003 0:00', '18/03/1999 0:00',\n",
       "       '8/02/2005 0:00', '8/12/2016 0:00', '21/11/1996 0:00',\n",
       "       '3/09/1996 0:00', '29/09/1993 0:00', '19/12/1995 0:00',\n",
       "       '23/03/1999 0:00', '27/01/2011 0:00', '13/01/1996 0:00',\n",
       "       '28/02/1994 5:00', '26/06/1996 0:00', '16/05/1995 4:00',\n",
       "       '16/07/2007 0:00', '22/05/2009 0:00', '10/03/2006 0:00',\n",
       "       '18/12/2006 0:00', '10/09/1998 0:00', '26/06/1995 0:00',\n",
       "       '28/12/2007 0:00', '28/07/1999 0:00', '28/02/2002 0:00',\n",
       "       '8/02/1999 0:00', '16/06/2000 17:03', '27/02/1995 0:00',\n",
       "       '13/02/1999 0:00', '12/06/2001 20:58', '23/05/1995 0:00',\n",
       "       '16/01/2008 0:00', '31/07/1997 0:00', '4/03/2006 0:00',\n",
       "       '1/11/2000 0:00', '18/12/2008 0:00', '31/08/2003 0:00',\n",
       "       '3/06/1997 0:00', '29/04/1999 0:00', '22/06/1998 0:00',\n",
       "       '14/12/1999 0:00', '28/01/2004 0:00', '28/03/2007 0:00',\n",
       "       '27/07/1995 0:00', '15/06/2006 0:00', '13/07/1998 0:00',\n",
       "       '8/01/1997 0:00', '29/07/1998 4:00', '14/08/1997 0:00',\n",
       "       '23/11/2010 0:00', '20/12/2008 0:00', '26/06/1997 0:00',\n",
       "       '15/02/1999 0:00', '1/04/1998 0:00', '14/11/2008 0:00'],\n",
       "      dtype=object)"
      ]
     },
     "execution_count": 11,
     "metadata": {},
     "output_type": "execute_result"
    }
   ],
   "source": [
    "websites['WHOIS_REGDATE'].unique()"
   ]
  },
  {
   "cell_type": "code",
   "execution_count": 12,
   "metadata": {},
   "outputs": [
    {
     "data": {
      "text/plain": [
       "array(['None', '12/09/2013 0:45', '11/04/2017 0:00', '3/10/2016 3:45',\n",
       "       '1/07/2016 0:00', '19/03/2017 0:00', '9/09/2015 0:00',\n",
       "       '23/11/2016 0:00', '6/10/2016 0:00', '19/04/2015 0:00',\n",
       "       '4/07/2015 0:00', '23/05/2016 0:00', '10/02/2015 0:00',\n",
       "       '25/02/2017 0:00', '7/08/2015 0:00', '29/06/2015 0:00',\n",
       "       '13/07/2016 17:36', '15/05/2016 0:00', '22/03/2016 0:00',\n",
       "       '2/03/2017 0:00', '19/05/2016 10:14', '3/03/2017 0:00',\n",
       "       '14/02/2017 20:27', '14/12/2015 0:00', '18/05/2016 0:00',\n",
       "       '27/04/2017 0:00', '9/04/2017 0:00', '4/07/2016 0:00',\n",
       "       '27/11/2015 0:00', '25/07/2016 0:00', '8/11/2014 0:00',\n",
       "       '14/02/2017 0:00', '31/05/2016 0:00', '30/09/2016 0:00',\n",
       "       '14/12/2016 0:00', '27/05/2016 14:46', '11/11/2012 0:00',\n",
       "       '29/04/2017 0:00', '8/04/2017 0:00', '6/01/2017 0:00',\n",
       "       '2/07/2016 0:00', '19/02/2017 0:00', '5/07/2016 0:00',\n",
       "       '6/02/2017 0:00', '4/01/2017 0:00', '13/11/2016 0:00',\n",
       "       '26/02/2017 0:00', '15/11/2013 0:00', '9/09/2016 0:00',\n",
       "       '12/03/2017 1:47', '22/02/2017 0:00', '22/12/2016 0:00',\n",
       "       '1/02/2017 0:01', '27/10/2016 0:00', '30/05/2016 0:00',\n",
       "       '18/07/2016 0:00', '10/04/2017 0:00', '30/04/2015 0:00',\n",
       "       '23/02/2017 17:46', '21/11/2016 0:00', '6/11/2016 0:00',\n",
       "       '8/11/2016 0:00', '27/02/2017 0:00', '12/12/2016 0:00',\n",
       "       '2/04/2014 0:00', '13/08/2016 0:00', '23/04/2015 0:00',\n",
       "       '13/02/2014 0:00', '13/03/2017 0:00', '21/06/2016 0:00',\n",
       "       '8/03/2017 0:00', '16/02/2016 0:00', '23/03/2017 0:00',\n",
       "       '4/03/2017 0:00', '20/09/2016 13:11', '24/04/2017 0:00',\n",
       "       '7/01/2015 0:00', '22/10/2016 0:00', '14/10/2014 0:00',\n",
       "       '2017-03-07T22:02:38.0Z', '29/11/2016 0:00', '9/06/2016 0:00',\n",
       "       '6/03/2017 0:00', '18/08/2016 0:00', '27/04/2015 0:00',\n",
       "       '30/09/2016 9:12', '26/03/2017 0:00', '11/10/2016 0:20',\n",
       "       '29/06/2016 0:00', '18/03/2017 0:00', '7/11/2014 0:00',\n",
       "       '16/01/2015 0:00', '12/05/2015 0:00', '9/08/2016 0:00',\n",
       "       '18/04/2017 0:00', '22/11/2016 0:00', '24/02/2017 0:00',\n",
       "       '28/03/2017 18:24', '4/02/2017 0:00', '9/03/2017 0:00',\n",
       "       '5/04/2017 0:00', '26/08/2016 0:00', '23/06/2016 0:00',\n",
       "       '7/03/2017 0:00', '14/04/2016 0:00', '9/05/2016 0:00',\n",
       "       '20/10/2015 23:34', '13/07/2016 0:00', '2/12/2016 0:00',\n",
       "       '20/06/2012 0:00', '10/07/2015 0:00', '26/02/2014 23:35',\n",
       "       '14/08/2013 0:00', '7/03/2013 0:00', '4/03/2016 0:00',\n",
       "       '22/01/2017 0:00', '28/10/2013 10:54', '15/03/2017 0:00',\n",
       "       '19/02/2016 0:00', '19/10/2016 0:00', '4/09/2013 0:00',\n",
       "       '4/10/2016 0:00', '8/01/2016 0:00', '26/04/2015 0:00',\n",
       "       '21/03/2017 0:00', '16/01/2016 0:00', '20/03/2017 0:00',\n",
       "       '26/08/2015 0:00', '26/10/2016 0:00', '24/10/2016 0:00',\n",
       "       '22/03/2017 0:00', '30/11/2016 10:30', '3/05/2012 0:00',\n",
       "       '24/08/2016 0:00', '10/09/2016 13:29', '14/05/2015 0:00',\n",
       "       '5/11/2015 0:00', '24/05/2016 0:00', '5/05/2016 0:00',\n",
       "       '14/07/2008 0:00', '28/09/2016 0:00', '1/12/2016 0:00',\n",
       "       '12/01/2017 0:00', '23/01/2017 0:00', '12/03/2017 0:00',\n",
       "       '10/09/2012 0:00', '24/07/2012 0:00', '22/12/2015 0:00',\n",
       "       '13/12/2016 0:00', '22/03/2017 3:37', '29/03/2017 0:00',\n",
       "       '18/09/2012 0:00', '27/10/2015 0:00', '26/07/2016 0:00',\n",
       "       '25/04/2017 0:00', '26/04/2016 0:00', '16/11/2016 0:00',\n",
       "       '31/10/2016 0:00', '18/07/2014 0:00', '12/12/2015 10:16',\n",
       "       '27/07/2016 0:00', '24/06/2016 0:00', '28/04/2017 0:00',\n",
       "       '14/01/2017 0:00', '2/02/2017 0:00', '20/09/2013 15:03',\n",
       "       '21/04/2017 16:47', '3/03/2015 0:00', '15/04/2016 0:00',\n",
       "       '3/01/2016 0:00', '18/01/2017 0:00', '24/05/2012 0:00',\n",
       "       '11/11/2016 0:00', '16/03/2017 0:00', '7/07/2016 0:00',\n",
       "       '27/01/2017 0:20', '19/11/2012 0:00', '5/10/2015 0:00',\n",
       "       '2/06/2016 0:00', '10/11/2016 0:00', '10/09/2016 0:00',\n",
       "       '10/05/2016 0:00', '21/04/2017 0:00', '9/12/2015 0:00',\n",
       "       '1/09/2012 0:00', '4/06/2015 0:00', '8/12/2016 0:00',\n",
       "       '25/12/2016 0:00', '28/03/2017 0:00', '18/12/2014 0:00',\n",
       "       '16/05/2016 0:00', '28/12/2016 0:00', '28/12/2014 0:00',\n",
       "       '17/04/2016 0:00', '27/01/2016 0:00', '15/11/2016 0:00',\n",
       "       '22/02/2016 0:00', '28/03/2017 18:16', '6/07/2015 0:00',\n",
       "       '9/10/2015 0:00', '20/11/2013 0:00', '11/05/2016 14:19',\n",
       "       '24/01/2017 0:00', '9/12/2015 14:43', '25/10/2016 0:00',\n",
       "       '19/04/2017 0:00', '18/02/2017 0:00', '29/07/2016 0:00',\n",
       "       '26/11/2014 0:00', '14/02/2016 0:00', '6/09/2016 8:26',\n",
       "       '25/05/2016 0:00', '18/06/2016 0:00', '29/08/2016 0:00',\n",
       "       '26/02/2016 0:00', '5/10/2016 0:00', '14/11/2016 0:00',\n",
       "       '4/08/2015 0:00', '31/03/2017 0:00', '30/01/2017 0:00',\n",
       "       '5/01/2016 0:00', '28/05/2014 0:00', '30/06/2016 0:00',\n",
       "       '30/11/2016 0:00', '9/09/2013 0:00', '23/04/2017 0:00',\n",
       "       '30/08/2016 0:00', '28/02/2017 10:46', '29/12/2016 14:11',\n",
       "       '19/12/2016 8:39', '31/05/2016 17:46', '26/09/2016 0:00',\n",
       "       '29/07/2015 0:00', '9/01/2017 10:11', '8/12/2016 14:01',\n",
       "       '18/04/2015 0:00', '12/05/2016 0:00', '15/09/2016 21:37',\n",
       "       '19/08/2015 0:00', '16/08/2016 0:00', '18/10/2013 0:00',\n",
       "       '26/04/2016 9:14', '15/04/2017 0:00', '3/01/2017 0:00',\n",
       "       '21/04/2015 0:00', '2/11/2016 0:00', '4/05/2016 0:00',\n",
       "       '20/07/2016 0:00', '3/04/2016 0:00', '22/08/2016 0:00',\n",
       "       '15/02/2017 0:00', '7/11/2016 0:00', '19/04/2017 10:41',\n",
       "       '9/01/2017 16:53', '18/10/2016 0:00', '28/06/2016 0:00',\n",
       "       '13/02/2013 1:33', '7/02/2017 0:00', '3/10/2016 0:00',\n",
       "       '1/06/2016 0:00', '24/03/2017 0:00', '4/12/2013 0:00',\n",
       "       '20/08/2015 15:58', '23/07/2011 0:00', '30/03/2014 0:00',\n",
       "       '7/10/2016 0:00', '30/09/2015 0:00', '16/02/2015 0:00',\n",
       "       '16/03/2015 0:00', '16/10/2014 0:00', '18/11/2016 0:00',\n",
       "       '27/01/2017 0:00', '1/02/2017 0:00', '15/12/2015 0:00',\n",
       "       '13/01/2017 0:00', '28/02/2017 0:00', '4/11/2016 0:00',\n",
       "       '26/06/2014 0:00', '18/01/2013 0:00', '19/04/2017 17:24',\n",
       "       '5/09/2016 3:47', '21/07/2016 18:54', '5/05/2013 3:46',\n",
       "       '14/04/2014 0:00', '5/11/2012 0:00', '17/04/2015 0:00',\n",
       "       '8/08/2015 0:00', '27/05/2015 0:00', '4/04/2014 15:11',\n",
       "       '17/08/2013 0:00', '26/01/2017 0:00', '10/07/2013 0:00',\n",
       "       '2/07/2014 0:00', '5/01/2017 0:00', '14/03/2017 0:00',\n",
       "       '7/12/2016 0:00', '8/12/2015 0:00', '2/01/2017 0:00',\n",
       "       '4/08/2016 0:00', '24/04/2017 11:55', '5/09/2016 8:00',\n",
       "       '4/04/2014 0:00', '29/03/2013 0:00', '23/11/2015 0:00',\n",
       "       '17/06/2016 0:00', '7/03/2013 19:26', '5/04/2017 13:36',\n",
       "       '5/03/2013 0:00', '19/05/2016 0:00', '16/06/2014 0:00',\n",
       "       '11/10/2016 0:00', '5/12/2013 0:00', '21/05/2015 0:00',\n",
       "       '1/02/2013 0:00', '17/01/2016 0:00', '21/02/2017 0:00',\n",
       "       '19/03/2016 0:00', '6/07/2016 0:00', '16/12/2016 0:00',\n",
       "       '9/07/2016 0:00', '20/04/2015 0:00', '10/10/2016 0:00',\n",
       "       '9/11/2015 0:00', '18/04/2017 1:29', '12/10/2015 0:00',\n",
       "       '5/03/2017 0:00', '5/11/2016 0:00', '21/02/2017 3:57',\n",
       "       '1/11/2013 0:00', '21/10/2016 0:00', '29/01/2017 0:00',\n",
       "       '16/07/2016 7:42', '13/05/2015 0:00', '1/05/2014 0:00',\n",
       "       '14/10/2016 0:00', '25/02/2015 0:00', '21/07/2016 0:00',\n",
       "       '8/09/2016 0:00', '15/10/2015 0:00', '5/03/2016 0:00',\n",
       "       '6/10/2015 0:00', '23/12/2011 0:00', '18/12/2015 0:00',\n",
       "       '18/09/2015 0:00', '17/12/2016 0:00', '8/12/2014 0:00',\n",
       "       '31/08/2016 0:00', '17/05/2016 0:00', '24/07/2014 0:00',\n",
       "       '19/12/2015 0:00', '4/09/2016 0:00', '26/11/2015 0:00',\n",
       "       '30/04/2014 0:00', '28/04/2015 0:00', '17/10/2016 0:00',\n",
       "       '2/07/2015 0:00', '14/04/2015 0:00', '4/04/2017 0:00',\n",
       "       '13/03/2014 0:00', '27/12/2016 0:00', '26/06/2016 0:00',\n",
       "       '20/04/2016 0:00', '25/11/2015 0:00', '10/07/2012 0:00',\n",
       "       '29/04/2016 0:00', '22/06/2016 0:00', '22/04/2016 0:00',\n",
       "       '10/02/2017 0:00', '4/01/2016 0:00', '12/01/2015 0:00',\n",
       "       '4/07/2016 14:14', '7/04/2016 0:00', '10/09/2016 6:58',\n",
       "       '31/01/2016 0:00', '11/03/2017 15:28', '16/04/2016 0:00',\n",
       "       '23/02/2017 0:00', '7/12/2015 0:00', '2/05/2014 0:00',\n",
       "       '6/05/2016 0:00', '27/03/2014 15:06', '17/01/2017 0:00',\n",
       "       '25/03/2017 0:00', '4/12/2014 17:41', '3/11/2015 0:00',\n",
       "       '1/01/2017 0:00', '13/12/2008 0:00', '18/10/2014 0:00',\n",
       "       '30/10/2016 0:00', '17/12/2012 21:45', '21/09/2016 15:14',\n",
       "       '23/12/2016 4:58', '27/03/2017 0:00', '14/01/2016 0:00',\n",
       "       '13/05/2016 0:00', '9/11/2016 0:00', '29/08/2014 0:00',\n",
       "       '10/01/2017 0:00', '7/09/2016 0:00', '13/09/2016 0:00',\n",
       "       '2/04/2017 0:00', '14/04/2017 0:00', '18/11/2013 0:00',\n",
       "       '15/07/2016 0:00', '16/09/2016 0:00', '1/11/2016 0:00',\n",
       "       '1/09/2016 14:20', '24/09/2016 0:00', '9/02/2017 0:00',\n",
       "       '27/03/2014 0:00', '11/11/2014 0:00', '22/04/2015 0:00',\n",
       "       '28/01/2015 0:00', '24/02/2016 0:00', '18/11/2015 0:00',\n",
       "       '30/03/2017 0:00', '18/04/2016 0:00', '20/02/2017 0:00',\n",
       "       '25/08/2015 0:00', '6/12/2016 21:52', '5/09/2014 0:00',\n",
       "       '18/11/2014 0:00', '16/01/2017 0:00', '9/04/2014 0:00',\n",
       "       '6/12/2015 17:05', '20/10/2016 0:00', '1/03/2017 19:31',\n",
       "       '29/03/2016 17:55', '22/07/2016 0:00', '29/09/2016 0:00',\n",
       "       '11/08/2016 0:00', '17/03/2017 0:00', '15/10/2016 0:00',\n",
       "       '18/10/2015 0:00', '9/09/2015 20:47', '23/09/2014 14:02',\n",
       "       '14/09/2015 0:00', '18/01/2016 0:00', '28/08/2015 0:00',\n",
       "       '19/05/2016 15:04', '3/04/2016 11:08', '22/05/2015 0:00',\n",
       "       '29/04/2013 0:00', '8/06/2015 0:00', '19/07/2016 0:00',\n",
       "       '3/11/2016 0:00', '8/04/2017 1:39', '5/05/2015 0:00',\n",
       "       '23/08/2016 10:07', '21/10/2014 0:00', '22/03/2017 18:00',\n",
       "       '27/09/2016 0:00', '11/07/2016 9:21', '7/12/2015 11:23',\n",
       "       '15/04/2015 0:00', '5/08/2016 0:00', '20/08/2015 0:00',\n",
       "       '28/03/2016 0:00', '1/10/2016 0:00', '29/05/2015 0:00',\n",
       "       '31/12/2016 0:00', '1/06/2016 10:45', '25/04/2016 0:00',\n",
       "       '23/02/2015 0:00', '6/05/2015 0:00', '11/03/2012 0:00',\n",
       "       '2/09/2016 0:00', '2/10/2016 0:00', '11/04/2016 0:00',\n",
       "       '18/12/2016 0:00', '17/03/2016 0:00', '14/08/2016 0:00',\n",
       "       '19/12/2016 0:00', '11/09/2016 0:00', '28/03/2014 0:00',\n",
       "       '14/10/2012 0:00', '10/02/2016 0:00', '11/03/2017 0:00',\n",
       "       '19/09/2016 0:00', '21/01/2016 0:00', '17/03/2017 14:30',\n",
       "       '11/12/2015 0:00', '3/04/2017 0:00', '31/05/2013 23:28',\n",
       "       '6/04/2016 0:00', '20/04/2017 0:00', '19/04/2017 12:59',\n",
       "       '15/09/2011 0:00', '21/06/2016 17:27', '29/02/2016 0:00',\n",
       "       '30/12/2016 0:00', '2/02/2017 17:11', '6/01/2016 0:00',\n",
       "       '21/05/2016 0:00', '15/09/2014 7:40', '5/04/2017 5:17',\n",
       "       '28/10/2016 0:00', '21/05/2014 0:00', '31/01/2017 0:00',\n",
       "       '21/09/2015 0:00', '1/02/2017 5:28', '1/03/2017 0:00',\n",
       "       '18/08/2015 0:00', '12/08/2015 0:00', '11/04/2017 23:16',\n",
       "       '13/06/2016 0:00', '31/01/2013 0:00', '29/07/2013 0:00',\n",
       "       '24/02/2015 0:00', '8/01/2017 0:00', '23/01/2014 0:00',\n",
       "       '21/03/2015 0:00', '5/06/2014 0:00', '15/09/2015 0:00',\n",
       "       '10/12/2016 0:00', '7/08/2013 22:19', '20/01/2017 1:26',\n",
       "       '23/10/2013 0:00', '31/03/2016 0:00', '17/05/2013 0:00',\n",
       "       '11/01/2016 0:00', '22/09/2016 0:00', '1/11/2012 0:00',\n",
       "       '2/05/2016 0:00', '12/02/2016 0:00', '18/04/2017 17:38',\n",
       "       '15/01/2015 0:00', '6/08/2016 0:00', '30/09/2009 2:59',\n",
       "       '26/04/2017 0:00', '12/03/2017 9:17', '30/04/2013 0:00',\n",
       "       '3/08/2014 0:00', '20/07/2011 0:00', '28/10/2015 0:00',\n",
       "       '20/07/2014 0:00', '3/06/2016 0:00', '31/07/2016 0:00',\n",
       "       '8/02/2017 0:00', '30/08/2013 0:00', '12/06/2015 0:00',\n",
       "       '24/08/2015 0:00', '8/08/2016 0:00', '17/08/2016 0:00',\n",
       "       '10/08/2016 0:00', '14/06/2016 0:00', '27/12/2015 0:00',\n",
       "       '26/12/2012 0:00', '8/10/2014 0:00', '29/08/2016 20:58',\n",
       "       '12/08/2016 0:00', '2/02/2016 0:00', '24/04/2015 0:00',\n",
       "       '13/04/2016 0:00', '21/04/2016 0:00', '3/03/2016 0:00',\n",
       "       '20/12/2013 0:00', '9/03/2015 0:00', '27/09/2012 0:00',\n",
       "       '28/04/2016 0:00', '13/02/2017 0:00', '25/02/2017 14:18',\n",
       "       '11/02/2017 0:00', '30/05/2016 18:18', '26/09/2013 0:00',\n",
       "       '5/08/2013 0:00', '2/07/2015 17:44', '2/04/2017 1:35',\n",
       "       '7/04/2017 0:00', '13/08/2015 0:00', '15/02/2016 0:00',\n",
       "       '11/12/2016 0:00', '16/01/2017 17:49', '14/01/2017 16:52',\n",
       "       '12/07/2016 0:00', '7/05/2016 0:00', '25/11/2016 0:00',\n",
       "       '17/02/2016 0:00', '13/11/2013 0:00', '29/11/2014 0:00',\n",
       "       '13/07/2014 0:00', '11/08/2015 20:35', '28/01/2017 0:00',\n",
       "       '10/06/2016 13:57', '12/11/2015 0:00', '14/01/2012 0:00',\n",
       "       '20/05/2016 0:00', '27/05/2016 0:00', '2/04/2016 0:00',\n",
       "       '2/06/2009 0:00', '17/03/2016 4:34', '20/11/2015 0:00',\n",
       "       '15/07/2015 0:00', '9/12/2016 0:00'], dtype=object)"
      ]
     },
     "execution_count": 12,
     "metadata": {},
     "output_type": "execute_result"
    }
   ],
   "source": [
    "websites['WHOIS_UPDATED_DATE'].unique()"
   ]
  },
  {
   "cell_type": "code",
   "execution_count": 13,
   "metadata": {},
   "outputs": [],
   "source": [
    "\n",
    "# It seems that the column we need to predict is 'Type', which contains 2 unique values: 0 for benign and 1\n",
    "# for malicious. \n",
    "# \n",
    "# There are null values in some of our columns: SERVER, CONTENT_LENGTH, DNS_QUERY_TIMES but also in CHARSET, \n",
    "# WHOIS_COUNTRY, WHOIS_STATEPRO, WHOIS_REGDATE and WHOIS_UPDATED_DATE. In this last four columns, the nulls are \n",
    "# not shown when using df.info() but there are cells with 'None' values and even '-', '--' and 'NOT APPLICABLE' \n",
    "# in the case of the WHOIS_STATEPRO column and '0' in WHOIS_REGDATE.\n",
    "# \n",
    "# We will need to convert the WHOIS_REGDATE and WHOIS_UPDATED_DATE column types to a date type and standardize \n",
    "# the countries (eg. 'se' vs 'SE', \"[u'GB'; u'UK']\") and states (eg. 'TX' vs 'Texas') if we decide to use these \n",
    "# columns in our analysis.\n",
    "# \n",
    "# Also, we can see that some data is not related to its column: '6110021', 'widestep@mail.ru' for WHOIS_STATEPRO\n",
    "# (and not sure about 'MIDDLESEX' but I won't google it just in case!).\n",
    "# \n",
    "# The URLs are all unique, there are not repeated values.\n"
   ]
  },
  {
   "cell_type": "markdown",
   "metadata": {},
   "source": [
    "#### Next, evaluate if the columns in this dataset are strongly correlated.\n",
    "\n",
    "If our dataset has strongly correlated columns, we need to choose certain ML algorithms instead of others. We need to evaluate this for our dataset now.\n",
    "\n",
    "Luckily, most of the columns in this dataset are ordinal which makes things a lot easier for us. In the next cells below, evaluate the level of collinearity of the data.\n",
    "\n",
    "We provide some general directions for you to consult in order to complete this step:\n",
    "\n",
    "1. You will create a correlation matrix using the numeric columns in the dataset.\n",
    "\n",
    "1. Create a heatmap using `seaborn` to visualize which columns have high collinearity.\n",
    "\n",
    "1. Comment on which columns you might need to remove due to high collinearity."
   ]
  },
  {
   "cell_type": "code",
   "execution_count": 14,
   "metadata": {},
   "outputs": [
    {
     "name": "stderr",
     "output_type": "stream",
     "text": [
      "/var/folders/38/ht1sv9tn3t950x04wj63jc3w0000gn/T/ipykernel_13016/4041609141.py:1: FutureWarning: The default value of numeric_only in DataFrame.corr is deprecated. In a future version, it will default to False. Select only valid columns or specify the value of numeric_only to silence this warning.\n",
      "  correlation = websites.corr()\n"
     ]
    },
    {
     "data": {
      "image/png": "[encoded data removed]",
      "text/plain": [
       "<Figure size 1000x800 with 2 Axes>"
      ]
     },
     "metadata": {},
     "output_type": "display_data"
    }
   ],
   "source": [
    "correlation = websites.corr()\n",
    "\n",
    "plt.figure(figsize=(10,8))\n",
    "a = sns.heatmap(correlation, square=True, annot=True, fmt='.2f', linecolor='white')\n",
    "a.set_xticklabels(a.get_xticklabels(), rotation=90)\n",
    "a.set_yticklabels(a.get_yticklabels())\n",
    "plt.show()"
   ]
  },
  {
   "cell_type": "code",
   "execution_count": 15,
   "metadata": {},
   "outputs": [
    {
     "data": {
      "text/plain": [
       "Index(['URL', 'URL_LENGTH', 'NUMBER_SPECIAL_CHARACTERS', 'CHARSET', 'SERVER',\n",
       "       'CONTENT_LENGTH', 'WHOIS_COUNTRY', 'WHOIS_STATEPRO', 'WHOIS_REGDATE',\n",
       "       'WHOIS_UPDATED_DATE', 'TCP_CONVERSATION_EXCHANGE',\n",
       "       'DIST_REMOTE_TCP_PORT', 'REMOTE_IPS', 'APP_BYTES', 'SOURCE_APP_PACKETS',\n",
       "       'REMOTE_APP_PACKETS', 'SOURCE_APP_BYTES', 'REMOTE_APP_BYTES',\n",
       "       'APP_PACKETS', 'DNS_QUERY_TIMES', 'Type'],\n",
       "      dtype='object')"
      ]
     },
     "execution_count": 15,
     "metadata": {},
     "output_type": "execute_result"
    }
   ],
   "source": [
    "websites.columns"
   ]
  },
  {
   "cell_type": "code",
   "execution_count": 16,
   "metadata": {},
   "outputs": [],
   "source": [
    "# We have some highly correlated columns:\n",
    "# URL_LENGTH and NUMBER_SPECIAL_CHARACTERS\n",
    "# TCP_CONVERSATION_EXCHANGE, SOURCE_APP_PACKETS, REMOTE_APP_PACKETS, APP_PACKETS\n",
    "# APP_BYTES and REMOTE_APP_BYTES"
   ]
  },
  {
   "cell_type": "markdown",
   "metadata": {},
   "source": [
    "# Challenge 2 - Remove Column Collinearity.\n",
    "\n",
    "From the heatmap you created, you should have seen at least 3 columns that can be removed due to high collinearity. Remove these columns from the dataset.\n",
    "\n",
    "Note that you should remove as few columns as you can. You don't have to remove all the columns at once. But instead, try removing one column, then produce the heatmap again to determine if additional columns should be removed. As long as the dataset no longer contains columns that are correlated for over 90%, you can stop. Also, keep in mind when two columns have high collinearity, you only need to remove one of them but not both.\n",
    "\n",
    "In the cells below, remove as few columns as you can to eliminate the high collinearity in the dataset. Make sure to comment on your way so that the instructional team can learn about your thinking process which allows them to give feedback. At the end, print the heatmap again."
   ]
  },
  {
   "cell_type": "code",
   "execution_count": 17,
   "metadata": {},
   "outputs": [],
   "source": [
    "websites.drop(['URL_LENGTH'], axis=1, inplace=True) # This column is less correlated to 'Type' than 'NUMBER_SPECIAL_CHARACTERS'\n",
    "websites.drop(['TCP_CONVERSATION_EXCHANGE'], axis=1, inplace=True)\n",
    "websites.drop(['REMOTE_APP_BYTES'], axis=1, inplace=True)"
   ]
  },
  {
   "cell_type": "code",
   "execution_count": 18,
   "metadata": {},
   "outputs": [
    {
     "name": "stderr",
     "output_type": "stream",
     "text": [
      "/var/folders/38/ht1sv9tn3t950x04wj63jc3w0000gn/T/ipykernel_13016/4041609141.py:1: FutureWarning: The default value of numeric_only in DataFrame.corr is deprecated. In a future version, it will default to False. Select only valid columns or specify the value of numeric_only to silence this warning.\n",
      "  correlation = websites.corr()\n"
     ]
    },
    {
     "data": {
      "image/png": "[encoded data removed]",
      "text/plain": [
       "<Figure size 1000x800 with 2 Axes>"
      ]
     },
     "metadata": {},
     "output_type": "display_data"
    }
   ],
   "source": [
    "correlation = websites.corr()\n",
    "\n",
    "plt.figure(figsize=(10,8))\n",
    "a = sns.heatmap(correlation, square=True, annot=True, fmt='.2f', linecolor='white')\n",
    "a.set_xticklabels(a.get_xticklabels(), rotation=90)\n",
    "a.set_yticklabels(a.get_yticklabels())\n",
    "plt.show()"
   ]
  },
  {
   "cell_type": "code",
   "execution_count": 19,
   "metadata": {},
   "outputs": [],
   "source": [
    "# Removing additional columns to avoid collinearity\n",
    "websites.drop(['SOURCE_APP_PACKETS'], axis=1, inplace=True)\n",
    "websites.drop(['REMOTE_APP_PACKETS'], axis=1, inplace=True)"
   ]
  },
  {
   "cell_type": "code",
   "execution_count": 20,
   "metadata": {},
   "outputs": [
    {
     "name": "stderr",
     "output_type": "stream",
     "text": [
      "/var/folders/38/ht1sv9tn3t950x04wj63jc3w0000gn/T/ipykernel_13016/373480780.py:2: FutureWarning: The default value of numeric_only in DataFrame.corr is deprecated. In a future version, it will default to False. Select only valid columns or specify the value of numeric_only to silence this warning.\n",
      "  correlation = websites.corr()\n"
     ]
    },
    {
     "data": {
      "image/png": "[encoded data removed]",
      "text/plain": [
       "<Figure size 1000x800 with 2 Axes>"
      ]
     },
     "metadata": {},
     "output_type": "display_data"
    }
   ],
   "source": [
    "# Print heatmap again\n",
    "correlation = websites.corr()\n",
    "\n",
    "plt.figure(figsize=(10,8))\n",
    "a = sns.heatmap(correlation, square=True, annot=True, fmt='.2f', linecolor='white')\n",
    "a.set_xticklabels(a.get_xticklabels(), rotation=90)\n",
    "a.set_yticklabels(a.get_yticklabels())\n",
    "plt.show()"
   ]
  },
  {
   "cell_type": "markdown",
   "metadata": {},
   "source": [
    "# Challenge 3 - Handle Missing Values\n",
    "\n",
    "The next step would be handling missing values. **We start by examining the number of missing values in each column, which you will do in the next cell.**"
   ]
  },
  {
   "cell_type": "code",
   "execution_count": 21,
   "metadata": {},
   "outputs": [
    {
     "data": {
      "text/plain": [
       "CONTENT_LENGTH               0.455924\n",
       "SERVER                       0.000561\n",
       "DNS_QUERY_TIMES              0.000561\n",
       "URL                          0.000000\n",
       "NUMBER_SPECIAL_CHARACTERS    0.000000\n",
       "CHARSET                      0.000000\n",
       "WHOIS_COUNTRY                0.000000\n",
       "WHOIS_STATEPRO               0.000000\n",
       "WHOIS_REGDATE                0.000000\n",
       "WHOIS_UPDATED_DATE           0.000000\n",
       "DIST_REMOTE_TCP_PORT         0.000000\n",
       "REMOTE_IPS                   0.000000\n",
       "APP_BYTES                    0.000000\n",
       "SOURCE_APP_BYTES             0.000000\n",
       "APP_PACKETS                  0.000000\n",
       "Type                         0.000000\n",
       "dtype: float64"
      ]
     },
     "execution_count": 21,
     "metadata": {},
     "output_type": "execute_result"
    }
   ],
   "source": [
    "websites.isna().sum().sort_values(ascending=False) / websites.shape[0]\n"
   ]
  },
  {
   "cell_type": "markdown",
   "metadata": {},
   "source": [
    "If you remember in the previous labs, we drop a column if the column contains a high proportion of missing values. After dropping those problematic columns, we drop the rows with missing values.\n",
    "\n",
    "#### In the cells below, handle the missing values from the dataset. Remember to comment the rationale of your decisions."
   ]
  },
  {
   "cell_type": "code",
   "execution_count": 22,
   "metadata": {},
   "outputs": [],
   "source": [
    "websites.drop(['CONTENT_LENGTH'], axis=1, inplace=True)\n",
    "websites.dropna(how='any', inplace=True)\n"
   ]
  },
  {
   "cell_type": "code",
   "execution_count": 23,
   "metadata": {},
   "outputs": [],
   "source": [
    "# The column CONTENT_LENGHT has almost 46% of null values, so we are going to drop the whole column.\n",
    "# For the rest of nulls in SERVER and DNS_QUERY_TIMES we will only delete the rows containing null values."
   ]
  },
  {
   "cell_type": "markdown",
   "metadata": {},
   "source": [
    "#### Again, examine the number of missing values in each column. \n",
    "\n",
    "If all cleaned, proceed. Otherwise, go back and do more cleaning."
   ]
  },
  {
   "cell_type": "code",
   "execution_count": 24,
   "metadata": {},
   "outputs": [
    {
     "data": {
      "text/plain": [
       "URL                          0.0\n",
       "NUMBER_SPECIAL_CHARACTERS    0.0\n",
       "CHARSET                      0.0\n",
       "SERVER                       0.0\n",
       "WHOIS_COUNTRY                0.0\n",
       "WHOIS_STATEPRO               0.0\n",
       "WHOIS_REGDATE                0.0\n",
       "WHOIS_UPDATED_DATE           0.0\n",
       "DIST_REMOTE_TCP_PORT         0.0\n",
       "REMOTE_IPS                   0.0\n",
       "APP_BYTES                    0.0\n",
       "SOURCE_APP_BYTES             0.0\n",
       "APP_PACKETS                  0.0\n",
       "DNS_QUERY_TIMES              0.0\n",
       "Type                         0.0\n",
       "dtype: float64"
      ]
     },
     "execution_count": 24,
     "metadata": {},
     "output_type": "execute_result"
    }
   ],
   "source": [
    "# Examine missing values in each column\n",
    "websites.isna().sum().sort_values(ascending=False) / websites.shape[0]"
   ]
  },
  {
   "cell_type": "markdown",
   "metadata": {},
   "source": [
    "# Challenge 4 - Handle `WHOIS_*` Categorical Data"
   ]
  },
  {
   "cell_type": "markdown",
   "metadata": {},
   "source": [
    "There are several categorical columns we need to handle. These columns are:\n",
    "\n",
    "* `URL`\n",
    "* `CHARSET`\n",
    "* `SERVER`\n",
    "* `WHOIS_COUNTRY`\n",
    "* `WHOIS_STATEPRO`\n",
    "* `WHOIS_REGDATE`\n",
    "* `WHOIS_UPDATED_DATE`\n",
    "\n",
    "How to handle string columns is always case by case. Let's start by working on `WHOIS_COUNTRY`. Your steps are:\n",
    "\n",
    "1. List out the unique values of `WHOIS_COUNTRY`.\n",
    "1. Consolidate the country values with consistent country codes. For example, the following values refer to the same country and should use consistent country code:\n",
    "    * `CY` and `Cyprus`\n",
    "    * `US` and `us`\n",
    "    * `SE` and `se`\n",
    "    * `GB`, `United Kingdom`, and `[u'GB'; u'UK']`\n",
    "\n",
    "#### In the cells below, fix the country values as intructed above."
   ]
  },
  {
   "cell_type": "code",
   "execution_count": 25,
   "metadata": {},
   "outputs": [
    {
     "data": {
      "text/plain": [
       "array(['None', 'US', 'SC', 'GB', 'UK', 'RU', 'AU', 'CA', 'PA', 'se', 'IN',\n",
       "       'LU', 'TH', \"[u'GB'; u'UK']\", 'FR', 'NL', 'UG', 'JP', 'CN', 'SE',\n",
       "       'SI', 'IL', 'ru', 'KY', 'AT', 'CZ', 'PH', 'BE', 'NO', 'TR', 'LV',\n",
       "       'DE', 'ES', 'BR', 'us', 'KR', 'HK', 'UA', 'CH', 'United Kingdom',\n",
       "       'BS', 'PK', 'IT', 'Cyprus', 'BY', 'AE', 'IE', 'UY', 'KG'],\n",
       "      dtype=object)"
      ]
     },
     "execution_count": 25,
     "metadata": {},
     "output_type": "execute_result"
    }
   ],
   "source": [
    "# Your code here\n",
    "websites['WHOIS_COUNTRY'].unique()"
   ]
  },
  {
   "cell_type": "code",
   "execution_count": 26,
   "metadata": {},
   "outputs": [],
   "source": [
    "websites['WHOIS_COUNTRY'].replace('Cyprus', 'CY', inplace=True)\n",
    "websites['WHOIS_COUNTRY'].replace('us', 'US', inplace=True)\n",
    "websites['WHOIS_COUNTRY'].replace('se', 'SE', inplace=True)\n",
    "websites['WHOIS_COUNTRY'].replace('United Kingdom', 'UK', inplace=True)\n",
    "websites['WHOIS_COUNTRY'].replace('GB', 'UK', inplace=True)\n",
    "websites['WHOIS_COUNTRY'].replace(\"[u'GB'; u'UK']\", 'UK', inplace=True)\n",
    "websites['WHOIS_COUNTRY'].replace('ru', 'RU', inplace=True)\n",
    "websites['WHOIS_COUNTRY'].replace('None', np.nan, inplace=True) # converting 'None' string into NaN"
   ]
  },
  {
   "cell_type": "code",
   "execution_count": 27,
   "metadata": {},
   "outputs": [
    {
     "data": {
      "text/plain": [
       "array([nan, 'US', 'SC', 'UK', 'RU', 'AU', 'CA', 'PA', 'SE', 'IN', 'LU',\n",
       "       'TH', 'FR', 'NL', 'UG', 'JP', 'CN', 'SI', 'IL', 'KY', 'AT', 'CZ',\n",
       "       'PH', 'BE', 'NO', 'TR', 'LV', 'DE', 'ES', 'BR', 'KR', 'HK', 'UA',\n",
       "       'CH', 'BS', 'PK', 'IT', 'CY', 'BY', 'AE', 'IE', 'UY', 'KG'],\n",
       "      dtype=object)"
      ]
     },
     "execution_count": 27,
     "metadata": {},
     "output_type": "execute_result"
    }
   ],
   "source": [
    "websites['WHOIS_COUNTRY'].unique()"
   ]
  },
  {
   "cell_type": "markdown",
   "metadata": {},
   "source": [
    "Since we have fixed the country values, can we convert this column to ordinal now?\n",
    "\n",
    "Not yet. If you reflect on the previous labs how we handle categorical columns, you probably remember we ended up dropping a lot of those columns because there are too many unique values. Too many unique values in a column is not desirable in machine learning because it makes prediction inaccurate. But there are workarounds under certain conditions. One of the fixable conditions is:\n",
    "\n",
    "#### If a limited number of values account for the majority of data, we can retain these top values and re-label all other rare values.\n",
    "\n",
    "The `WHOIS_COUNTRY` column happens to be this case. You can verify it by print a bar chart of the `value_counts` in the next cell to verify:"
   ]
  },
  {
   "cell_type": "code",
   "execution_count": 28,
   "metadata": {},
   "outputs": [
    {
     "data": {
      "text/plain": [
       "US    1105\n",
       "CA      83\n",
       "ES      63\n",
       "UK      35\n",
       "AU      35\n",
       "PA      21\n",
       "JP      11\n",
       "CN      10\n",
       "IN      10\n",
       "FR       9\n",
       "CZ       9\n",
       "CH       6\n",
       "NL       6\n",
       "RU       6\n",
       "KR       5\n",
       "AT       4\n",
       "BS       4\n",
       "PH       4\n",
       "SE       4\n",
       "KY       3\n",
       "TR       3\n",
       "DE       3\n",
       "HK       3\n",
       "SC       3\n",
       "BE       3\n",
       "NO       2\n",
       "UA       2\n",
       "UY       2\n",
       "CY       2\n",
       "SI       2\n",
       "KG       2\n",
       "IL       2\n",
       "BR       2\n",
       "TH       1\n",
       "PK       1\n",
       "IT       1\n",
       "UG       1\n",
       "BY       1\n",
       "AE       1\n",
       "IE       1\n",
       "LV       1\n",
       "LU       1\n",
       "Name: WHOIS_COUNTRY, dtype: int64"
      ]
     },
     "execution_count": 28,
     "metadata": {},
     "output_type": "execute_result"
    }
   ],
   "source": [
    "# Your code here\n",
    "websites['WHOIS_COUNTRY'].value_counts()"
   ]
  },
  {
   "cell_type": "code",
   "execution_count": 29,
   "metadata": {},
   "outputs": [],
   "source": [
    "# We converted the 'None' into NaN, so now we need to drop them."
   ]
  },
  {
   "cell_type": "code",
   "execution_count": 30,
   "metadata": {},
   "outputs": [
    {
     "data": {
      "text/plain": [
       "URL                          0.000000\n",
       "NUMBER_SPECIAL_CHARACTERS    0.000000\n",
       "CHARSET                      0.000000\n",
       "SERVER                       0.000000\n",
       "WHOIS_COUNTRY                0.172007\n",
       "WHOIS_STATEPRO               0.000000\n",
       "WHOIS_REGDATE                0.000000\n",
       "WHOIS_UPDATED_DATE           0.000000\n",
       "DIST_REMOTE_TCP_PORT         0.000000\n",
       "REMOTE_IPS                   0.000000\n",
       "APP_BYTES                    0.000000\n",
       "SOURCE_APP_BYTES             0.000000\n",
       "APP_PACKETS                  0.000000\n",
       "DNS_QUERY_TIMES              0.000000\n",
       "Type                         0.000000\n",
       "dtype: float64"
      ]
     },
     "execution_count": 30,
     "metadata": {},
     "output_type": "execute_result"
    }
   ],
   "source": [
    "websites.isna().sum() / len(websites)"
   ]
  },
  {
   "cell_type": "code",
   "execution_count": 31,
   "metadata": {},
   "outputs": [],
   "source": [
    "websites.dropna(how='any', inplace=True) \n",
    "\n",
    "# We need to take into account that the 17% of null values is not perfectly accurate, because we had already \n",
    "# dropped some rows before. So the 17% of nulls has been calculated using the number of DF rows AFTER having \n",
    "# deleted some values. The original number of nulls for this column should be a little bit lower."
   ]
  },
  {
   "cell_type": "markdown",
   "metadata": {},
   "source": [
    "#### After verifying, now let's keep the top 10 values of the column and re-label other columns with `OTHER`."
   ]
  },
  {
   "cell_type": "code",
   "execution_count": 32,
   "metadata": {
    "scrolled": true
   },
   "outputs": [
    {
     "data": {
      "text/plain": [
       "array(['US', 'SC', 'UK', 'RU', 'AU', 'CA', 'PA', 'SE', 'IN', 'LU', 'TH',\n",
       "       'FR', 'NL', 'UG', 'JP', 'CN', 'SI', 'IL', 'KY', 'AT', 'CZ', 'PH',\n",
       "       'BE', 'NO', 'TR', 'LV', 'DE', 'ES', 'BR', 'KR', 'HK', 'UA', 'CH',\n",
       "       'BS', 'PK', 'IT', 'CY', 'BY', 'AE', 'IE', 'UY', 'KG'], dtype=object)"
      ]
     },
     "execution_count": 32,
     "metadata": {},
     "output_type": "execute_result"
    }
   ],
   "source": [
    "websites['WHOIS_COUNTRY'].unique()\n"
   ]
  },
  {
   "cell_type": "code",
   "execution_count": 33,
   "metadata": {},
   "outputs": [],
   "source": [
    "websites['WHOIS_COUNTRY'].replace(['SC', 'RU', 'SE', 'LU',\n",
    "       'TH', 'NL', 'UG', 'SI', 'IL', 'KY', 'AT', 'CZ',\n",
    "       'PH', 'BE', 'NO', 'TR', 'LV', 'DE', 'BR', 'KR', 'HK', 'UA',\n",
    "       'CH', 'BS', 'PK', 'IT', 'CY', 'BY', 'AE', 'IE', 'UY', 'KG'], 'OTHER', inplace=True)"
   ]
  },
  {
   "cell_type": "code",
   "execution_count": 34,
   "metadata": {},
   "outputs": [
    {
     "data": {
      "text/plain": [
       "US       1105\n",
       "OTHER      91\n",
       "CA         83\n",
       "ES         63\n",
       "UK         35\n",
       "AU         35\n",
       "PA         21\n",
       "JP         11\n",
       "IN         10\n",
       "CN         10\n",
       "FR          9\n",
       "Name: WHOIS_COUNTRY, dtype: int64"
      ]
     },
     "execution_count": 34,
     "metadata": {},
     "output_type": "execute_result"
    }
   ],
   "source": [
    "websites['WHOIS_COUNTRY'].value_counts()"
   ]
  },
  {
   "cell_type": "markdown",
   "metadata": {},
   "source": [
    "Now since `WHOIS_COUNTRY` has been re-labelled, we don't need `WHOIS_STATEPRO` any more because the values of the states or provinces may not be relevant any more. We'll drop this column.\n",
    "\n",
    "In addition, we will also drop `WHOIS_REGDATE` and `WHOIS_UPDATED_DATE`. These are the registration and update dates of the website domains. Not of our concerns.\n",
    "\n",
    "#### In the next cell, drop `['WHOIS_STATEPRO', 'WHOIS_REGDATE', 'WHOIS_UPDATED_DATE']`."
   ]
  },
  {
   "cell_type": "code",
   "execution_count": 35,
   "metadata": {},
   "outputs": [],
   "source": [
    "websites.drop(['WHOIS_STATEPRO', 'WHOIS_REGDATE', 'WHOIS_UPDATED_DATE'], axis=1, inplace=True)"
   ]
  },
  {
   "cell_type": "markdown",
   "metadata": {},
   "source": [
    "# Challenge 5 - Handle Remaining Categorical Data & Convert to Ordinal\n",
    "\n",
    "Now print the `dtypes` of the data again. Besides `WHOIS_COUNTRY` which we already fixed, there should be 3 categorical columns left: `URL`, `CHARSET`, and `SERVER`."
   ]
  },
  {
   "cell_type": "code",
   "execution_count": 36,
   "metadata": {},
   "outputs": [
    {
     "data": {
      "text/plain": [
       "URL                           object\n",
       "NUMBER_SPECIAL_CHARACTERS      int64\n",
       "CHARSET                       object\n",
       "SERVER                        object\n",
       "WHOIS_COUNTRY                 object\n",
       "DIST_REMOTE_TCP_PORT           int64\n",
       "REMOTE_IPS                     int64\n",
       "APP_BYTES                      int64\n",
       "SOURCE_APP_BYTES               int64\n",
       "APP_PACKETS                    int64\n",
       "DNS_QUERY_TIMES              float64\n",
       "Type                           int64\n",
       "dtype: object"
      ]
     },
     "execution_count": 36,
     "metadata": {},
     "output_type": "execute_result"
    }
   ],
   "source": [
    "websites.dtypes\n"
   ]
  },
  {
   "cell_type": "markdown",
   "metadata": {},
   "source": [
    "#### `URL` is easy. We'll simply drop it because it has too many unique values that there's no way for us to consolidate."
   ]
  },
  {
   "cell_type": "code",
   "execution_count": 37,
   "metadata": {},
   "outputs": [],
   "source": [
    "websites.drop(['URL'], axis=1, inplace=True)\n"
   ]
  },
  {
   "cell_type": "markdown",
   "metadata": {},
   "source": [
    "#### Print the unique value counts of `CHARSET`. You see there are only a few unique values. So we can keep it as it is."
   ]
  },
  {
   "cell_type": "code",
   "execution_count": 38,
   "metadata": {},
   "outputs": [
    {
     "data": {
      "text/plain": [
       "8"
      ]
     },
     "execution_count": 38,
     "metadata": {},
     "output_type": "execute_result"
    }
   ],
   "source": [
    "websites['CHARSET'].nunique()"
   ]
  },
  {
   "cell_type": "markdown",
   "metadata": {},
   "source": [
    "`SERVER` is a little more complicated. Print its unique values and think about how you can consolidate those values.\n",
    "\n",
    "#### Before you think of your own solution, don't read the instructions that come next."
   ]
  },
  {
   "cell_type": "code",
   "execution_count": 39,
   "metadata": {},
   "outputs": [
    {
     "data": {
      "text/plain": [
       "array(['nginx', 'None', 'Apache/2', 'Microsoft-HTTPAPI/2.0', 'Apache',\n",
       "       'Apache/2.4.23 (Unix) OpenSSL/1.0.1e-fips mod_bwlimited/1.4',\n",
       "       'openresty/1.11.2.1', 'Apache/2.4.7 (Ubuntu)', 'nginx/1.12.0',\n",
       "       'Apache/2.4.12 (Unix) OpenSSL/1.0.1e-fips mod_bwlimited/1.4',\n",
       "       'cloudflare-nginx', 'openresty', 'Apache/2.2.22', 'nginx/1.8.0',\n",
       "       'Apache/2.2.29 (Amazon)', 'Microsoft-IIS/7.5', 'tsa_c',\n",
       "       'Apache/2.2.22 (Debian)', 'Apache/2.2.15 (CentOS)',\n",
       "       'Apache/2.4.25 (Amazon) PHP/7.0.14', 'GSE',\n",
       "       'Apache/2.4.23 (Unix) OpenSSL/0.9.8e-fips-rhel5 mod_bwlimited/1.4',\n",
       "       'Pepyaka/1.11.3', 'Apache/2.4.25 (Amazon) OpenSSL/1.0.1k-fips',\n",
       "       'Apache/2.2.22 (Ubuntu)', 'Apache/2.4.25', 'Tengine',\n",
       "       'Apache/2.4.18 (Unix) OpenSSL/0.9.8e-fips-rhel5 mod_bwlimited/1.4',\n",
       "       'Apache/2.4.10 (Debian)', 'Apache/2.4.6 (CentOS) PHP/5.6.8',\n",
       "       'Apache/2.4.18 (Unix) OpenSSL/1.0.2e Communique/4.1.10',\n",
       "       'AmazonS3',\n",
       "       'Apache/1.3.37 (Unix) mod_perl/1.29 mod_ssl/2.8.28 OpenSSL/0.9.7e-p1',\n",
       "       'ATS', 'CherryPy/3.6.0', 'Apache/2.2.15 (Red Hat)', 'Server',\n",
       "       'Apache/2.4.6 (CentOS) OpenSSL/1.0.1e-fips mod_fcgid/2.3.9 PHP/5.4.16 mod_jk/1.2.40',\n",
       "       'Apache/2.2.3 (CentOS)', 'Apache/2.4',\n",
       "       'nginx/1.10.1 + Phusion Passenger 5.0.30', 'mw2114.codfw.wmnet',\n",
       "       'Apache/2.2.31 (Unix) mod_ssl/2.2.31 OpenSSL/1.0.1e-fips mod_bwlimited/1.4 mod_perl/2.0.8 Perl/v5.10.1',\n",
       "       'Apache/1.3.34 (Unix) PHP/4.4.4', 'Apache/2.2.31 (Amazon)',\n",
       "       'Jetty(9.0.z-SNAPSHOT)', 'Apache/2.2.31 (CentOS)', 'HTTPDaemon',\n",
       "       'Apache/2.2.29 (Unix) mod_ssl/2.2.29 OpenSSL/1.0.1e-fips mod_bwlimited/1.4',\n",
       "       'MediaFire', 'DOSarrest', 'mw2232.codfw.wmnet',\n",
       "       'Sucuri/Cloudproxy', 'Apache/2.4.23 (Unix)', 'mw2260.codfw.wmnet',\n",
       "       'Apache/2.2.32', 'mw2239.codfw.wmnet', 'Apache/2.0.52 (Red Hat)',\n",
       "       'Apache/1.3.31 (Unix) PHP/4.3.9 mod_perl/1.29 rus/PL30.20',\n",
       "       'Apache/2.2.13 (Unix) mod_ssl/2.2.13 OpenSSL/0.9.8e-fips-rhel5 mod_auth_passthrough/2.1 mod_bwlimited/1.4 PHP/5.2.10',\n",
       "       'nginx/1.1.19', 'ATS/5.3.0', 'nginx/1.4.3',\n",
       "       'Apache/2.2.29 (Unix) mod_ssl/2.2.29 OpenSSL/1.0.1e-fips mod_bwlimited/1.4 PHP/5.4.35',\n",
       "       'Apache/2.2.14 (FreeBSD) mod_ssl/2.2.14 OpenSSL/0.9.8y DAV/2 PHP/5.2.12 with Suhosin-Patch',\n",
       "       'Apache/2.2.14 (Unix) mod_ssl/2.2.14 OpenSSL/0.9.8e-fips-rhel5',\n",
       "       'SSWS', 'Microsoft-IIS/8.0', 'Apache/2.4.18 (Ubuntu)',\n",
       "       'Apache/2.4.6 (CentOS) OpenSSL/1.0.1e-fips PHP/5.4.16 mod_apreq2-20090110/2.8.0 mod_perl/2.0.10 Perl/v5.24.1',\n",
       "       'Apache/2.2.20 (Unix)', 'YouTubeFrontEnd', 'nginx/1.11.2',\n",
       "       'nginx/1.10.0 (Ubuntu)', 'nginx/1.8.1', 'nginx/1.11.10',\n",
       "       'Squeegit/1.2.5 (3_sir)',\n",
       "       'Virtuoso/07.20.3217 (Linux) i686-generic-linux-glibc212-64  VDB',\n",
       "       'Apache-Coyote/1.1', 'Yippee-Ki-Yay', 'mw2165.codfw.wmnet',\n",
       "       'mw2192.codfw.wmnet', 'Apache/2.2.23 (Amazon)', 'LiteSpeed',\n",
       "       'nginx/1.4.6 (Ubuntu)', 'nginx + Phusion Passenger',\n",
       "       'Proxy Pandeiro UOL', 'mw2231.codfw.wmnet', 'openresty/1.11.2.2',\n",
       "       'mw2109.codfw.wmnet', 'Apache/2.4.6', 'nginx/1.10.1',\n",
       "       'mw2225.codfw.wmnet', 'mw2236.codfw.wmnet', 'mw2101.codfw.wmnet',\n",
       "       'Varnish', 'Resin/3.1.8', 'mw2164.codfw.wmnet',\n",
       "       'Microsoft-IIS/8.5', 'nginx/1.6.2', 'mw2242.codfw.wmnet',\n",
       "       'Apache/2.4.6 (CentOS) OpenSSL/1.0.1e-fips PHP/5.5.38',\n",
       "       'mw2175.codfw.wmnet', 'mw2107.codfw.wmnet', 'mw2190.codfw.wmnet',\n",
       "       'Apache/2.4.6 (CentOS)', 'nginx/1.13.0', 'barista/5.1.3',\n",
       "       'mw2103.codfw.wmnet', 'Apache/2.4.25 (Debian)', 'ECD (fll/0790)',\n",
       "       'Pagely Gateway/1.5.1', 'nginx/1.10.3', 'mw2097.codfw.wmnet',\n",
       "       'mw2233.codfw.wmnet', 'fbs', 'mw2199.codfw.wmnet',\n",
       "       'mw2255.codfw.wmnet', 'mw2228.codfw.wmnet',\n",
       "       'Apache/2.2.31 (Unix) mod_ssl/2.2.31 OpenSSL/1.0.1e-fips mod_bwlimited/1.4 mod_fcgid/2.3.9',\n",
       "       'gunicorn/19.7.1',\n",
       "       'Apache/2.2.31 (Unix) mod_ssl/2.2.31 OpenSSL/0.9.8e-fips-rhel5 mod_bwlimited/1.4',\n",
       "       'mw2241.codfw.wmnet',\n",
       "       'Apache/1.3.33 (Unix) mod_ssl/2.8.24 OpenSSL/0.9.7e-p1 PHP/4.4.8',\n",
       "       'nginx/1.11.3', 'lighttpd', 'mw2230.codfw.wmnet',\n",
       "       'Apache/2.4.6 (CentOS) OpenSSL/1.0.1e-fips', 'AkamaiGHost',\n",
       "       'mw2240.codfw.wmnet', 'nginx/1.10.2', 'PWS/8.2.0.7', 'nginx/1.2.1',\n",
       "       'nxfps', 'Play', 'mw2185.codfw.wmnet',\n",
       "       'Apache/Not telling (Unix) AuthTDS/1.1',\n",
       "       'Apache/2.2.11 (Unix) PHP/5.2.6', 'marrakesh 1.12.2',\n",
       "       'nginx/0.8.35', 'mw2182.codfw.wmnet', 'squid/3.3.8',\n",
       "       'Apache/2.2.27 (CentOS)', 'Nginx (OpenBSD)',\n",
       "       'Apache/2.2.21 (Unix) mod_ssl/2.2.21 OpenSSL/0.9.8e-fips-rhel5 PHP/5.3.10',\n",
       "       'mw2104.codfw.wmnet',\n",
       "       'Apache/2.4.25 (cPanel) OpenSSL/1.0.1e-fips mod_bwlimited/1.4',\n",
       "       '.V01 Apache', 'mw2110.codfw.wmnet',\n",
       "       'Apache/2.4.6 (Unix) mod_jk/1.2.37 PHP/5.5.1 OpenSSL/1.0.1g mod_fcgid/2.3.9',\n",
       "       'mw2176.codfw.wmnet', 'mw2187.codfw.wmnet', 'mw2106.codfw.wmnet',\n",
       "       'Microsoft-IIS/7.0',\n",
       "       'Apache/1.3.42 Ben-SSL/1.60 (Unix) mod_gzip/1.3.26.1a mod_fastcgi/2.4.6 mod_throttle/3.1.2 Chili!Soft-ASP/3.6.2 FrontPage/5.0.2.2635 mod_perl/1.31 PHP/4.4.9',\n",
       "       'Aeria Games & Entertainment',\n",
       "       'Apache/2.4.10 (Debian) PHP/5.6.30-0+deb8u1 mod_perl/2.0.9dev Perl/v5.20.2',\n",
       "       'mw2173.codfw.wmnet',\n",
       "       'Apache/2.2.15 (CentOS) DAV/2 mod_ssl/2.2.15 OpenSSL/1.0.1e-fips PHP/5.3.3',\n",
       "       'Apache/2.4.6 (CentOS) OpenSSL/1.0.1e-fips PHP/7.0.14',\n",
       "       'mw2198.codfw.wmnet', 'nginx/1.6.3 + Phusion Passenger',\n",
       "       'Apache/2.4.6 (CentOS) OpenSSL/1.0.1e-fips PHP/5.4.16',\n",
       "       'mw2172.codfw.wmnet', 'nginx/1.2.6',\n",
       "       'Apache/2.4.6 (Unix) mod_jk/1.2.37', 'nginx/1.4.4', 'Cowboy',\n",
       "       'mw2113.codfw.wmnet',\n",
       "       'Apache/2.2.14 (Unix) mod_ssl/2.2.14 OpenSSL/0.9.8a',\n",
       "       'Apache/2.4.10 (Ubuntu)', 'mw2224.codfw.wmnet',\n",
       "       'mw2171.codfw.wmnet', 'mw2257.codfw.wmnet', 'mw2226.codfw.wmnet',\n",
       "       'DMS/1.0.42', 'nginx/1.6.3', 'Application-Server',\n",
       "       'mw2177.codfw.wmnet', 'lighttpd/1.4.28', 'mw2197.codfw.wmnet',\n",
       "       'Apache/2.2.26 (Unix) mod_ssl/2.2.26 OpenSSL/1.0.1e-fips DAV/2 mod_bwlimited/1.4',\n",
       "       'mw2178.codfw.wmnet', 'Microsoft-IIS/6.0', 'nginx/1.7.4',\n",
       "       'Apache/2.2.22 (Debian) mod_python/3.3.1 Python/2.7.3 mod_ssl/2.2.22 OpenSSL/1.0.1t',\n",
       "       'Apache/2.4.16 (Ubuntu)',\n",
       "       'Apache/2.2.26 (Unix) mod_ssl/2.2.26 OpenSSL/0.9.8e-fips-rhel5 mod_bwlimited/1.4 PHP/5.4.26',\n",
       "       'www.lexisnexis.com  9999', 'nginx/0.8.38', 'mw2238.codfw.wmnet',\n",
       "       'Pizza/pepperoni', 'MI', 'Roxen/5.4.98-r2', 'nginx/1.9.13',\n",
       "       'mw2180.codfw.wmnet', 'Apache/2.2.14 (Ubuntu)', 'ebay server',\n",
       "       'nginx/0.8.55', 'Apache/2.2.10 (Linux/SUSE)', 'nginx/1.7.12',\n",
       "       'Apache/2.0.63 (Unix) mod_ssl/2.0.63 OpenSSL/0.9.8e-fips-rhel5 mod_auth_passthrough/2.1 mod_bwlimited/1.4 PHP/5.3.6',\n",
       "       'Boston.com Frontend', 'My Arse', 'IdeaWebServer/v0.80',\n",
       "       'Apache/2.4.17 (Unix) OpenSSL/1.0.1e-fips PHP/5.6.19',\n",
       "       'Microsoft-IIS/7.5; litigation_essentials.lexisnexis.com  9999',\n",
       "       'Apache/2.2.16 (Debian)'], dtype=object)"
      ]
     },
     "execution_count": 39,
     "metadata": {},
     "output_type": "execute_result"
    }
   ],
   "source": [
    "websites['SERVER'].unique() # we could group them by brand (nginx, Apache, Microsoft)"
   ]
  },
  {
   "cell_type": "markdown",
   "metadata": {},
   "source": [
    "![Think Hard](../images/think-hard.jpg)"
   ]
  },
  {
   "cell_type": "markdown",
   "metadata": {},
   "source": [
    "Although there are so many unique values in the `SERVER` column, there are actually only 3 main server types: `Microsoft`, `Apache`, and `nginx`. Just check if each `SERVER` value contains any of those server types and re-label them. For `SERVER` values that don't contain any of those substrings, label with `Other`.\n",
    "\n",
    "At the end, your `SERVER` column should only contain 4 unique values: `Microsoft`, `Apache`, `nginx`, and `Other`."
   ]
  },
  {
   "cell_type": "code",
   "execution_count": 40,
   "metadata": {},
   "outputs": [],
   "source": [
    "def norm_server(x):\n",
    "    if 'Microsoft' in x:\n",
    "        x = 'Microsoft'\n",
    "    elif 'Apache' in x:\n",
    "        x = 'Apache'\n",
    "    elif 'nginx' in x:\n",
    "        x = 'nginx'\n",
    "    else:\n",
    "        x = 'Other'\n",
    "        \n",
    "    return x\n",
    "        "
   ]
  },
  {
   "cell_type": "code",
   "execution_count": 41,
   "metadata": {},
   "outputs": [],
   "source": [
    "websites['SERVER'] = websites['SERVER'].apply(norm_server)"
   ]
  },
  {
   "cell_type": "code",
   "execution_count": 42,
   "metadata": {
    "scrolled": false
   },
   "outputs": [
    {
     "data": {
      "text/plain": [
       "Apache       520\n",
       "Other        466\n",
       "nginx        329\n",
       "Microsoft    158\n",
       "Name: SERVER, dtype: int64"
      ]
     },
     "execution_count": 42,
     "metadata": {},
     "output_type": "execute_result"
    }
   ],
   "source": [
    "# Count `SERVER` value counts here\n",
    "websites['SERVER'].value_counts()"
   ]
  },
  {
   "cell_type": "markdown",
   "metadata": {},
   "source": [
    "OK, all our categorical data are fixed now. **Let's convert them to ordinal data using Pandas' `get_dummies` function ([documentation](https://pandas.pydata.org/pandas-docs/stable/generated/pandas.get_dummies.html)). Also, assign the data with dummy values to a new variable `website_dummy`.**"
   ]
  },
  {
   "cell_type": "code",
   "execution_count": 43,
   "metadata": {},
   "outputs": [
    {
     "data": {
      "text/plain": [
       "NUMBER_SPECIAL_CHARACTERS      int64\n",
       "CHARSET                       object\n",
       "SERVER                        object\n",
       "WHOIS_COUNTRY                 object\n",
       "DIST_REMOTE_TCP_PORT           int64\n",
       "REMOTE_IPS                     int64\n",
       "APP_BYTES                      int64\n",
       "SOURCE_APP_BYTES               int64\n",
       "APP_PACKETS                    int64\n",
       "DNS_QUERY_TIMES              float64\n",
       "Type                           int64\n",
       "dtype: object"
      ]
     },
     "execution_count": 43,
     "metadata": {},
     "output_type": "execute_result"
    }
   ],
   "source": [
    "websites.dtypes"
   ]
  },
  {
   "cell_type": "code",
   "execution_count": 44,
   "metadata": {},
   "outputs": [],
   "source": [
    "# Your code here\n",
    "website_dummy = pd.get_dummies(websites[['CHARSET', 'SERVER', 'WHOIS_COUNTRY']])"
   ]
  },
  {
   "cell_type": "markdown",
   "metadata": {},
   "source": [
    "Now, inspect `website_dummy` to make sure the data and types are intended - there shouldn't be any categorical columns at this point."
   ]
  },
  {
   "cell_type": "code",
   "execution_count": 45,
   "metadata": {},
   "outputs": [
    {
     "data": {
      "text/plain": [
       "CHARSET_ISO-8859-1      uint8\n",
       "CHARSET_None            uint8\n",
       "CHARSET_UTF-8           uint8\n",
       "CHARSET_iso-8859-1      uint8\n",
       "CHARSET_us-ascii        uint8\n",
       "CHARSET_utf-8           uint8\n",
       "CHARSET_windows-1251    uint8\n",
       "CHARSET_windows-1252    uint8\n",
       "SERVER_Apache           uint8\n",
       "SERVER_Microsoft        uint8\n",
       "SERVER_Other            uint8\n",
       "SERVER_nginx            uint8\n",
       "WHOIS_COUNTRY_AU        uint8\n",
       "WHOIS_COUNTRY_CA        uint8\n",
       "WHOIS_COUNTRY_CN        uint8\n",
       "WHOIS_COUNTRY_ES        uint8\n",
       "WHOIS_COUNTRY_FR        uint8\n",
       "WHOIS_COUNTRY_IN        uint8\n",
       "WHOIS_COUNTRY_JP        uint8\n",
       "WHOIS_COUNTRY_OTHER     uint8\n",
       "WHOIS_COUNTRY_PA        uint8\n",
       "WHOIS_COUNTRY_UK        uint8\n",
       "WHOIS_COUNTRY_US        uint8\n",
       "dtype: object"
      ]
     },
     "execution_count": 45,
     "metadata": {},
     "output_type": "execute_result"
    }
   ],
   "source": [
    "# Your code here\n",
    "website_dummy.dtypes"
   ]
  },
  {
   "cell_type": "code",
   "execution_count": 46,
   "metadata": {},
   "outputs": [],
   "source": [
    "# We need to include the dummy variables in the original DF and then drop the categorical columns (type = object)"
   ]
  },
  {
   "cell_type": "code",
   "execution_count": 47,
   "metadata": {},
   "outputs": [],
   "source": [
    "websites_transformed = pd.merge(left= websites, right = website_dummy, left_index = True, right_index = True)"
   ]
  },
  {
   "cell_type": "code",
   "execution_count": 48,
   "metadata": {},
   "outputs": [],
   "source": [
    "websites_transformed = websites_transformed.drop(columns = ['CHARSET', 'SERVER', 'WHOIS_COUNTRY'])"
   ]
  },
  {
   "cell_type": "code",
   "execution_count": 49,
   "metadata": {},
   "outputs": [
    {
     "data": {
      "text/plain": [
       "NUMBER_SPECIAL_CHARACTERS      int64\n",
       "DIST_REMOTE_TCP_PORT           int64\n",
       "REMOTE_IPS                     int64\n",
       "APP_BYTES                      int64\n",
       "SOURCE_APP_BYTES               int64\n",
       "APP_PACKETS                    int64\n",
       "DNS_QUERY_TIMES              float64\n",
       "Type                           int64\n",
       "CHARSET_ISO-8859-1             uint8\n",
       "CHARSET_None                   uint8\n",
       "CHARSET_UTF-8                  uint8\n",
       "CHARSET_iso-8859-1             uint8\n",
       "CHARSET_us-ascii               uint8\n",
       "CHARSET_utf-8                  uint8\n",
       "CHARSET_windows-1251           uint8\n",
       "CHARSET_windows-1252           uint8\n",
       "SERVER_Apache                  uint8\n",
       "SERVER_Microsoft               uint8\n",
       "SERVER_Other                   uint8\n",
       "SERVER_nginx                   uint8\n",
       "WHOIS_COUNTRY_AU               uint8\n",
       "WHOIS_COUNTRY_CA               uint8\n",
       "WHOIS_COUNTRY_CN               uint8\n",
       "WHOIS_COUNTRY_ES               uint8\n",
       "WHOIS_COUNTRY_FR               uint8\n",
       "WHOIS_COUNTRY_IN               uint8\n",
       "WHOIS_COUNTRY_JP               uint8\n",
       "WHOIS_COUNTRY_OTHER            uint8\n",
       "WHOIS_COUNTRY_PA               uint8\n",
       "WHOIS_COUNTRY_UK               uint8\n",
       "WHOIS_COUNTRY_US               uint8\n",
       "dtype: object"
      ]
     },
     "execution_count": 49,
     "metadata": {},
     "output_type": "execute_result"
    }
   ],
   "source": [
    "websites_transformed.dtypes"
   ]
  },
  {
   "cell_type": "markdown",
   "metadata": {},
   "source": [
    "# Challenge 6 - Modeling, Prediction, and Evaluation\n",
    "\n",
    "We'll start off this section by splitting the data to train and test. **Name your 4 variables `X_train`, `X_test`, `y_train`, and `y_test`. Select 80% of the data for training and 20% for testing.**"
   ]
  },
  {
   "cell_type": "code",
   "execution_count": 50,
   "metadata": {},
   "outputs": [],
   "source": [
    "from sklearn.model_selection import train_test_split\n",
    "\n",
    "# Your code here:\n",
    "X_train, X_test, y_train, y_test = train_test_split(websites_transformed.drop(columns=['Type']), \n",
    "                                    websites_transformed['Type'], \n",
    "                                    test_size = 0.20, \n",
    "                                    random_state=0)"
   ]
  },
  {
   "cell_type": "code",
   "execution_count": 51,
   "metadata": {},
   "outputs": [
    {
     "name": "stdout",
     "output_type": "stream",
     "text": [
      "(1178, 30)\n",
      "(295, 30)\n"
     ]
    }
   ],
   "source": [
    "print(X_train.shape)\n",
    "print(X_test.shape)"
   ]
  },
  {
   "cell_type": "markdown",
   "metadata": {},
   "source": [
    "#### In this lab, we will try two different models and compare our results.\n",
    "\n",
    "The first model we will use in this lab is logistic regression. We have previously learned about logistic regression as a classification algorithm. In the cell below, load `LogisticRegression` from scikit-learn and initialize the model."
   ]
  },
  {
   "cell_type": "code",
   "execution_count": 52,
   "metadata": {},
   "outputs": [],
   "source": [
    "# Your code here:\n",
    "from sklearn.linear_model import LogisticRegression\n",
    "\n",
    "model = LogisticRegression()\n"
   ]
  },
  {
   "cell_type": "markdown",
   "metadata": {},
   "source": [
    "Next, fit the model to our training data. We have already separated our data into 4 parts. Use those in your model."
   ]
  },
  {
   "cell_type": "code",
   "execution_count": 53,
   "metadata": {},
   "outputs": [
    {
     "name": "stderr",
     "output_type": "stream",
     "text": [
      "/Users/JAVIER/anaconda3/lib/python3.10/site-packages/sklearn/linear_model/_logistic.py:458: ConvergenceWarning: lbfgs failed to converge (status=1):\n",
      "STOP: TOTAL NO. of ITERATIONS REACHED LIMIT.\n",
      "\n",
      "Increase the number of iterations (max_iter) or scale the data as shown in:\n",
      "    https://scikit-learn.org/stable/modules/preprocessing.html\n",
      "Please also refer to the documentation for alternative solver options:\n",
      "    https://scikit-learn.org/stable/modules/linear_model.html#logistic-regression\n",
      "  n_iter_i = _check_optimize_result(\n"
     ]
    }
   ],
   "source": [
    "# Your code here:\n",
    "model = model.fit(X_train, y_train)"
   ]
  },
  {
   "cell_type": "markdown",
   "metadata": {},
   "source": [
    "finally, import `confusion_matrix` and `accuracy_score` from `sklearn.metrics` and fit our testing data. Assign the fitted data to `y_pred` and print the confusion matrix as well as the accuracy score"
   ]
  },
  {
   "cell_type": "code",
   "execution_count": 54,
   "metadata": {},
   "outputs": [
    {
     "name": "stdout",
     "output_type": "stream",
     "text": [
      "Train data accuracy is 0.897\n",
      "Test data accuracy is 0.919\n"
     ]
    }
   ],
   "source": [
    "# Your code here:\n",
    "from sklearn.metrics import confusion_matrix\n",
    "from sklearn.metrics import accuracy_score\n",
    "import seaborn as sns\n",
    "\n",
    "print(\"Train data accuracy is\", round(model.score(X_train, y_train), 3))\n",
    "print(\"Test data accuracy is\", round(model.score(X_test, y_test), 3))\n"
   ]
  },
  {
   "cell_type": "code",
   "execution_count": 55,
   "metadata": {},
   "outputs": [],
   "source": [
    "# Both train and test accuracy are pretty similar, so it seems that there is not overfitting."
   ]
  },
  {
   "cell_type": "code",
   "execution_count": 56,
   "metadata": {
    "scrolled": false
   },
   "outputs": [
    {
     "data": {
      "text/plain": [
       "<AxesSubplot: >"
      ]
     },
     "execution_count": 56,
     "metadata": {},
     "output_type": "execute_result"
    },
    {
     "data": {
      "image/png": "[encoded data removed]",
      "text/plain": [
       "<Figure size 640x480 with 2 Axes>"
      ]
     },
     "metadata": {},
     "output_type": "display_data"
    }
   ],
   "source": [
    "pred = model.predict(X_test)\n",
    "\n",
    "cmatrix = pd.DataFrame(confusion_matrix(y_test, pred, labels=[1, 0]), \n",
    "                                        index=['Obs: Yes', 'Obs: No'], \n",
    "                                        columns=['Pred: Yes', 'Pred: No'])\n",
    "\n",
    "sns.heatmap(cmatrix, annot=True, fmt=\".0f\")\n",
    "                        "
   ]
  },
  {
   "cell_type": "markdown",
   "metadata": {},
   "source": [
    "What are your thoughts on the performance of the model? Write your conclusions below."
   ]
  },
  {
   "cell_type": "code",
   "execution_count": 57,
   "metadata": {},
   "outputs": [],
   "source": [
    "# Your conclusions here:\n",
    "# If we look at the train and test accuracy, the results seem pretty good. However, if we look at the confusion \n",
    "# matrix we can see that the accuracy can be misleading. When we are looking at fraudulent websites, we could \n",
    "# argue that most of the websites will be benign, so we can expect a high accuracy by predicting 'Type' = 0.\n",
    "# That explains the train and test accuracy, but if we look at the confusion matrix we can observe that out of \n",
    "# the 295 test data points, 274 were benign websites and 21 were malign ones. From the 21 malign websites, our   \n",
    "# model only predicted correctly 5 of them, and missed 16 (missed 76% of the malign websites!). Therefore, our \n",
    "# model is not very accurate."
   ]
  },
  {
   "cell_type": "markdown",
   "metadata": {},
   "source": [
    "#### Our second algorithm is is K-Nearest Neighbors. \n",
    "\n",
    "Though is it not required, we will fit a model using the training data and then test the performance of the model using the testing data. Start by loading `KNeighborsClassifier` from scikit-learn and then initializing and fitting the model. We'll start off with a model where k=3."
   ]
  },
  {
   "cell_type": "code",
   "execution_count": 58,
   "metadata": {},
   "outputs": [
    {
     "data": {
      "text/html": [
       "<style>#sk-container-id-1 {color: black;background-color: white;}#sk-container-id-1 pre{padding: 0;}#sk-container-id-1 div.sk-toggleable {background-color: white;}#sk-container-id-1 label.sk-toggleable__label {cursor: pointer;display: block;width: 100%;margin-bottom: 0;padding: 0.3em;box-sizing: border-box;text-align: center;}#sk-container-id-1 label.sk-toggleable__label-arrow:before {content: \"▸\";float: left;margin-right: 0.25em;color: #696969;}#sk-container-id-1 label.sk-toggleable__label-arrow:hover:before {color: black;}#sk-container-id-1 div.sk-estimator:hover label.sk-toggleable__label-arrow:before {color: black;}#sk-container-id-1 div.sk-toggleable__content {max-height: 0;max-width: 0;overflow: hidden;text-align: left;background-color: #f0f8ff;}#sk-container-id-1 div.sk-toggleable__content pre {margin: 0.2em;color: black;border-radius: 0.25em;background-color: #f0f8ff;}#sk-container-id-1 input.sk-toggleable__control:checked~div.sk-toggleable__content {max-height: 200px;max-width: 100%;overflow: auto;}#sk-container-id-1 input.sk-toggleable__control:checked~label.sk-toggleable__label-arrow:before {content: \"▾\";}#sk-container-id-1 div.sk-estimator input.sk-toggleable__control:checked~label.sk-toggleable__label {background-color: #d4ebff;}#sk-container-id-1 div.sk-label input.sk-toggleable__control:checked~label.sk-toggleable__label {background-color: #d4ebff;}#sk-container-id-1 input.sk-hidden--visually {border: 0;clip: rect(1px 1px 1px 1px);clip: rect(1px, 1px, 1px, 1px);height: 1px;margin: -1px;overflow: hidden;padding: 0;position: absolute;width: 1px;}#sk-container-id-1 div.sk-estimator {font-family: monospace;background-color: #f0f8ff;border: 1px dotted black;border-radius: 0.25em;box-sizing: border-box;margin-bottom: 0.5em;}#sk-container-id-1 div.sk-estimator:hover {background-color: #d4ebff;}#sk-container-id-1 div.sk-parallel-item::after {content: \"\";width: 100%;border-bottom: 1px solid gray;flex-grow: 1;}#sk-container-id-1 div.sk-label:hover label.sk-toggleable__label {background-color: #d4ebff;}#sk-container-id-1 div.sk-serial::before {content: \"\";position: absolute;border-left: 1px solid gray;box-sizing: border-box;top: 0;bottom: 0;left: 50%;z-index: 0;}#sk-container-id-1 div.sk-serial {display: flex;flex-direction: column;align-items: center;background-color: white;padding-right: 0.2em;padding-left: 0.2em;position: relative;}#sk-container-id-1 div.sk-item {position: relative;z-index: 1;}#sk-container-id-1 div.sk-parallel {display: flex;align-items: stretch;justify-content: center;background-color: white;position: relative;}#sk-container-id-1 div.sk-item::before, #sk-container-id-1 div.sk-parallel-item::before {content: \"\";position: absolute;border-left: 1px solid gray;box-sizing: border-box;top: 0;bottom: 0;left: 50%;z-index: -1;}#sk-container-id-1 div.sk-parallel-item {display: flex;flex-direction: column;z-index: 1;position: relative;background-color: white;}#sk-container-id-1 div.sk-parallel-item:first-child::after {align-self: flex-end;width: 50%;}#sk-container-id-1 div.sk-parallel-item:last-child::after {align-self: flex-start;width: 50%;}#sk-container-id-1 div.sk-parallel-item:only-child::after {width: 0;}#sk-container-id-1 div.sk-dashed-wrapped {border: 1px dashed gray;margin: 0 0.4em 0.5em 0.4em;box-sizing: border-box;padding-bottom: 0.4em;background-color: white;}#sk-container-id-1 div.sk-label label {font-family: monospace;font-weight: bold;display: inline-block;line-height: 1.2em;}#sk-container-id-1 div.sk-label-container {text-align: center;}#sk-container-id-1 div.sk-container {/* jupyter's `normalize.less` sets `[hidden] { display: none; }` but bootstrap.min.css set `[hidden] { display: none !important; }` so we also need the `!important` here to be able to override the default hidden behavior on the sphinx rendered scikit-learn.org. See: https://github.com/scikit-learn/scikit-learn/issues/21755 */display: inline-block !important;position: relative;}#sk-container-id-1 div.sk-text-repr-fallback {display: none;}</style><div id=\"sk-container-id-1\" class=\"sk-top-container\"><div class=\"sk-text-repr-fallback\"><pre>KNeighborsClassifier(n_neighbors=3)</pre><b>In a Jupyter environment, please rerun this cell to show the HTML representation or trust the notebook. <br />On GitHub, the HTML representation is unable to render, please try loading this page with nbviewer.org.</b></div><div class=\"sk-container\" hidden><div class=\"sk-item\"><div class=\"sk-estimator sk-toggleable\"><input class=\"sk-toggleable__control sk-hidden--visually\" id=\"sk-estimator-id-1\" type=\"checkbox\" checked><label for=\"sk-estimator-id-1\" class=\"sk-toggleable__label sk-toggleable__label-arrow\">KNeighborsClassifier</label><div class=\"sk-toggleable__content\"><pre>KNeighborsClassifier(n_neighbors=3)</pre></div></div></div></div></div>"
      ],
      "text/plain": [
       "KNeighborsClassifier(n_neighbors=3)"
      ]
     },
     "execution_count": 58,
     "metadata": {},
     "output_type": "execute_result"
    }
   ],
   "source": [
    "# Your code here:\n",
    "from sklearn.neighbors import KNeighborsClassifier\n",
    "\n",
    "knn = KNeighborsClassifier(n_neighbors=3)\n",
    "knn.fit(X_train, y_train)\n"
   ]
  },
  {
   "cell_type": "markdown",
   "metadata": {},
   "source": [
    "To test your model, compute the predicted values for the testing sample and print the confusion matrix as well as the accuracy score."
   ]
  },
  {
   "cell_type": "code",
   "execution_count": 59,
   "metadata": {
    "scrolled": true
   },
   "outputs": [
    {
     "name": "stdout",
     "output_type": "stream",
     "text": [
      "Train data accuracy is 0.968\n",
      "Test data accuracy is 0.963\n"
     ]
    }
   ],
   "source": [
    "# Your code here:\n",
    "print(\"Train data accuracy is\", round(knn.score(X_train, y_train), 3))\n",
    "print(\"Test data accuracy is\", round(knn.score(X_test, y_test), 3))"
   ]
  },
  {
   "cell_type": "code",
   "execution_count": 60,
   "metadata": {},
   "outputs": [
    {
     "data": {
      "text/html": [
       "<div>\n",
       "<style scoped>\n",
       "    .dataframe tbody tr th:only-of-type {\n",
       "        vertical-align: middle;\n",
       "    }\n",
       "\n",
       "    .dataframe tbody tr th {\n",
       "        vertical-align: top;\n",
       "    }\n",
       "\n",
       "    .dataframe thead th {\n",
       "        text-align: right;\n",
       "    }\n",
       "</style>\n",
       "<table border=\"1\" class=\"dataframe\">\n",
       "  <thead>\n",
       "    <tr style=\"text-align: right;\">\n",
       "      <th></th>\n",
       "      <th>Pred: Yes</th>\n",
       "      <th>Pred: No</th>\n",
       "    </tr>\n",
       "  </thead>\n",
       "  <tbody>\n",
       "    <tr>\n",
       "      <th>Obs: Yes</th>\n",
       "      <td>17</td>\n",
       "      <td>4</td>\n",
       "    </tr>\n",
       "    <tr>\n",
       "      <th>Obs: No</th>\n",
       "      <td>7</td>\n",
       "      <td>267</td>\n",
       "    </tr>\n",
       "  </tbody>\n",
       "</table>\n",
       "</div>"
      ],
      "text/plain": [
       "          Pred: Yes  Pred: No\n",
       "Obs: Yes         17         4\n",
       "Obs: No           7       267"
      ]
     },
     "execution_count": 60,
     "metadata": {},
     "output_type": "execute_result"
    }
   ],
   "source": [
    "knn_pred = knn.predict(X_test)\n",
    "\n",
    "knn_matrix = pd.DataFrame(confusion_matrix(y_test, knn_pred, labels=[1,0]),\n",
    "                         index=['Obs: Yes', 'Obs: No'], \n",
    "                         columns=['Pred: Yes', 'Pred: No'])\n",
    "\n",
    "knn_matrix"
   ]
  },
  {
   "cell_type": "markdown",
   "metadata": {},
   "source": [
    "#### We'll create another K-Nearest Neighbors model with k=5. \n",
    "\n",
    "Initialize and fit the model below and print the confusion matrix and the accuracy score."
   ]
  },
  {
   "cell_type": "code",
   "execution_count": 61,
   "metadata": {},
   "outputs": [
    {
     "data": {
      "text/html": [
       "<style>#sk-container-id-2 {color: black;background-color: white;}#sk-container-id-2 pre{padding: 0;}#sk-container-id-2 div.sk-toggleable {background-color: white;}#sk-container-id-2 label.sk-toggleable__label {cursor: pointer;display: block;width: 100%;margin-bottom: 0;padding: 0.3em;box-sizing: border-box;text-align: center;}#sk-container-id-2 label.sk-toggleable__label-arrow:before {content: \"▸\";float: left;margin-right: 0.25em;color: #696969;}#sk-container-id-2 label.sk-toggleable__label-arrow:hover:before {color: black;}#sk-container-id-2 div.sk-estimator:hover label.sk-toggleable__label-arrow:before {color: black;}#sk-container-id-2 div.sk-toggleable__content {max-height: 0;max-width: 0;overflow: hidden;text-align: left;background-color: #f0f8ff;}#sk-container-id-2 div.sk-toggleable__content pre {margin: 0.2em;color: black;border-radius: 0.25em;background-color: #f0f8ff;}#sk-container-id-2 input.sk-toggleable__control:checked~div.sk-toggleable__content {max-height: 200px;max-width: 100%;overflow: auto;}#sk-container-id-2 input.sk-toggleable__control:checked~label.sk-toggleable__label-arrow:before {content: \"▾\";}#sk-container-id-2 div.sk-estimator input.sk-toggleable__control:checked~label.sk-toggleable__label {background-color: #d4ebff;}#sk-container-id-2 div.sk-label input.sk-toggleable__control:checked~label.sk-toggleable__label {background-color: #d4ebff;}#sk-container-id-2 input.sk-hidden--visually {border: 0;clip: rect(1px 1px 1px 1px);clip: rect(1px, 1px, 1px, 1px);height: 1px;margin: -1px;overflow: hidden;padding: 0;position: absolute;width: 1px;}#sk-container-id-2 div.sk-estimator {font-family: monospace;background-color: #f0f8ff;border: 1px dotted black;border-radius: 0.25em;box-sizing: border-box;margin-bottom: 0.5em;}#sk-container-id-2 div.sk-estimator:hover {background-color: #d4ebff;}#sk-container-id-2 div.sk-parallel-item::after {content: \"\";width: 100%;border-bottom: 1px solid gray;flex-grow: 1;}#sk-container-id-2 div.sk-label:hover label.sk-toggleable__label {background-color: #d4ebff;}#sk-container-id-2 div.sk-serial::before {content: \"\";position: absolute;border-left: 1px solid gray;box-sizing: border-box;top: 0;bottom: 0;left: 50%;z-index: 0;}#sk-container-id-2 div.sk-serial {display: flex;flex-direction: column;align-items: center;background-color: white;padding-right: 0.2em;padding-left: 0.2em;position: relative;}#sk-container-id-2 div.sk-item {position: relative;z-index: 1;}#sk-container-id-2 div.sk-parallel {display: flex;align-items: stretch;justify-content: center;background-color: white;position: relative;}#sk-container-id-2 div.sk-item::before, #sk-container-id-2 div.sk-parallel-item::before {content: \"\";position: absolute;border-left: 1px solid gray;box-sizing: border-box;top: 0;bottom: 0;left: 50%;z-index: -1;}#sk-container-id-2 div.sk-parallel-item {display: flex;flex-direction: column;z-index: 1;position: relative;background-color: white;}#sk-container-id-2 div.sk-parallel-item:first-child::after {align-self: flex-end;width: 50%;}#sk-container-id-2 div.sk-parallel-item:last-child::after {align-self: flex-start;width: 50%;}#sk-container-id-2 div.sk-parallel-item:only-child::after {width: 0;}#sk-container-id-2 div.sk-dashed-wrapped {border: 1px dashed gray;margin: 0 0.4em 0.5em 0.4em;box-sizing: border-box;padding-bottom: 0.4em;background-color: white;}#sk-container-id-2 div.sk-label label {font-family: monospace;font-weight: bold;display: inline-block;line-height: 1.2em;}#sk-container-id-2 div.sk-label-container {text-align: center;}#sk-container-id-2 div.sk-container {/* jupyter's `normalize.less` sets `[hidden] { display: none; }` but bootstrap.min.css set `[hidden] { display: none !important; }` so we also need the `!important` here to be able to override the default hidden behavior on the sphinx rendered scikit-learn.org. See: https://github.com/scikit-learn/scikit-learn/issues/21755 */display: inline-block !important;position: relative;}#sk-container-id-2 div.sk-text-repr-fallback {display: none;}</style><div id=\"sk-container-id-2\" class=\"sk-top-container\"><div class=\"sk-text-repr-fallback\"><pre>KNeighborsClassifier()</pre><b>In a Jupyter environment, please rerun this cell to show the HTML representation or trust the notebook. <br />On GitHub, the HTML representation is unable to render, please try loading this page with nbviewer.org.</b></div><div class=\"sk-container\" hidden><div class=\"sk-item\"><div class=\"sk-estimator sk-toggleable\"><input class=\"sk-toggleable__control sk-hidden--visually\" id=\"sk-estimator-id-2\" type=\"checkbox\" checked><label for=\"sk-estimator-id-2\" class=\"sk-toggleable__label sk-toggleable__label-arrow\">KNeighborsClassifier</label><div class=\"sk-toggleable__content\"><pre>KNeighborsClassifier()</pre></div></div></div></div></div>"
      ],
      "text/plain": [
       "KNeighborsClassifier()"
      ]
     },
     "execution_count": 61,
     "metadata": {},
     "output_type": "execute_result"
    }
   ],
   "source": [
    "# Your code here:\n",
    "knn = KNeighborsClassifier(n_neighbors=5)\n",
    "knn.fit(X_train, y_train)\n"
   ]
  },
  {
   "cell_type": "code",
   "execution_count": 62,
   "metadata": {},
   "outputs": [
    {
     "name": "stdout",
     "output_type": "stream",
     "text": [
      "Train data accuracy is 0.955\n",
      "Test data accuracy is 0.966\n"
     ]
    }
   ],
   "source": [
    "print(\"Train data accuracy is\", round(knn.score(X_train, y_train), 3))\n",
    "print(\"Test data accuracy is\", round(knn.score(X_test, y_test), 3))"
   ]
  },
  {
   "cell_type": "code",
   "execution_count": 63,
   "metadata": {},
   "outputs": [
    {
     "data": {
      "text/html": [
       "<div>\n",
       "<style scoped>\n",
       "    .dataframe tbody tr th:only-of-type {\n",
       "        vertical-align: middle;\n",
       "    }\n",
       "\n",
       "    .dataframe tbody tr th {\n",
       "        vertical-align: top;\n",
       "    }\n",
       "\n",
       "    .dataframe thead th {\n",
       "        text-align: right;\n",
       "    }\n",
       "</style>\n",
       "<table border=\"1\" class=\"dataframe\">\n",
       "  <thead>\n",
       "    <tr style=\"text-align: right;\">\n",
       "      <th></th>\n",
       "      <th>Pred: Yes</th>\n",
       "      <th>Pred: No</th>\n",
       "    </tr>\n",
       "  </thead>\n",
       "  <tbody>\n",
       "    <tr>\n",
       "      <th>Obs: Yes</th>\n",
       "      <td>17</td>\n",
       "      <td>4</td>\n",
       "    </tr>\n",
       "    <tr>\n",
       "      <th>Obs: No</th>\n",
       "      <td>6</td>\n",
       "      <td>268</td>\n",
       "    </tr>\n",
       "  </tbody>\n",
       "</table>\n",
       "</div>"
      ],
      "text/plain": [
       "          Pred: Yes  Pred: No\n",
       "Obs: Yes         17         4\n",
       "Obs: No           6       268"
      ]
     },
     "execution_count": 63,
     "metadata": {},
     "output_type": "execute_result"
    }
   ],
   "source": [
    "knn_pred = knn.predict(X_test)\n",
    "\n",
    "knn_matrix = pd.DataFrame(confusion_matrix(y_test, knn_pred, labels=[1,0]),\n",
    "                         index=['Obs: Yes', 'Obs: No'], \n",
    "                         columns=['Pred: Yes', 'Pred: No'])\n",
    "\n",
    "knn_matrix"
   ]
  },
  {
   "cell_type": "markdown",
   "metadata": {},
   "source": [
    "Did you see an improvement in the confusion matrix when increasing k to 5? Did you see an improvement in the accuracy score? Write your conclusions below."
   ]
  },
  {
   "cell_type": "code",
   "execution_count": 64,
   "metadata": {},
   "outputs": [],
   "source": [
    "# Your conclusions here:\n",
    "# There has been a slight improvement in both the test accuracy score and confusion matrix.\n",
    "# The improvement comes from 1 data point that was previously classified as malign when it wasn't.\n",
    "# There are no changes in the rest of the data point predictions."
   ]
  },
  {
   "cell_type": "markdown",
   "metadata": {},
   "source": [
    "# Bonus Challenge - Feature Scaling\n",
    "\n",
    "Problem-solving in machine learning is iterative. You can improve your model prediction with various techniques (there is a sweetspot for the time you spend and the improvement you receive though). Now you've completed only one iteration of ML analysis. There are more iterations you can conduct to make improvements. In order to be able to do that, you will need deeper knowledge in statistics and master more data analysis techniques. In this bootcamp, we don't have time to achieve that advanced goal. But you will make constant efforts after the bootcamp to eventually get there.\n",
    "\n",
    "However, now we do want you to learn one of the advanced techniques which is called *feature scaling*. The idea of feature scaling is to standardize/normalize the range of independent variables or features of the data. This can make the outliers more apparent so that you can remove them. This step needs to happen during Challenge 6 after you split the training and test data because you don't want to split the data again which makes it impossible to compare your results with and without feature scaling. For general concepts about feature scaling, click [here](https://en.wikipedia.org/wiki/Feature_scaling). To read deeper, click [here](https://medium.com/greyatom/why-how-and-when-to-scale-your-features-4b30ab09db5e).\n",
    "\n",
    "In the next cell, attempt to improve your model prediction accuracy by means of feature scaling. A library you can utilize is `sklearn.preprocessing.RobustScaler` ([documentation](https://scikit-learn.org/stable/modules/generated/sklearn.preprocessing.RobustScaler.html)). You'll use the `RobustScaler` to fit and transform your `X_train`, then transform `X_test`. You will use logistic regression to fit and predict your transformed data and obtain the accuracy score in the same way. Compare the accuracy score with your normalized data with the previous accuracy data. Is there an improvement?"
   ]
  },
  {
   "cell_type": "code",
   "execution_count": 65,
   "metadata": {},
   "outputs": [
    {
     "data": {
      "text/html": [
       "<div>\n",
       "<style scoped>\n",
       "    .dataframe tbody tr th:only-of-type {\n",
       "        vertical-align: middle;\n",
       "    }\n",
       "\n",
       "    .dataframe tbody tr th {\n",
       "        vertical-align: top;\n",
       "    }\n",
       "\n",
       "    .dataframe thead th {\n",
       "        text-align: right;\n",
       "    }\n",
       "</style>\n",
       "<table border=\"1\" class=\"dataframe\">\n",
       "  <thead>\n",
       "    <tr style=\"text-align: right;\">\n",
       "      <th></th>\n",
       "      <th>NUMBER_SPECIAL_CHARACTERS</th>\n",
       "      <th>DIST_REMOTE_TCP_PORT</th>\n",
       "      <th>REMOTE_IPS</th>\n",
       "      <th>APP_BYTES</th>\n",
       "      <th>SOURCE_APP_BYTES</th>\n",
       "      <th>APP_PACKETS</th>\n",
       "      <th>DNS_QUERY_TIMES</th>\n",
       "      <th>CHARSET_ISO-8859-1</th>\n",
       "      <th>CHARSET_None</th>\n",
       "      <th>CHARSET_UTF-8</th>\n",
       "      <th>CHARSET_iso-8859-1</th>\n",
       "      <th>CHARSET_us-ascii</th>\n",
       "      <th>CHARSET_utf-8</th>\n",
       "      <th>CHARSET_windows-1251</th>\n",
       "      <th>CHARSET_windows-1252</th>\n",
       "      <th>SERVER_Apache</th>\n",
       "      <th>SERVER_Microsoft</th>\n",
       "      <th>SERVER_Other</th>\n",
       "      <th>SERVER_nginx</th>\n",
       "      <th>WHOIS_COUNTRY_AU</th>\n",
       "      <th>WHOIS_COUNTRY_CA</th>\n",
       "      <th>WHOIS_COUNTRY_CN</th>\n",
       "      <th>WHOIS_COUNTRY_ES</th>\n",
       "      <th>WHOIS_COUNTRY_FR</th>\n",
       "      <th>WHOIS_COUNTRY_IN</th>\n",
       "      <th>WHOIS_COUNTRY_JP</th>\n",
       "      <th>WHOIS_COUNTRY_OTHER</th>\n",
       "      <th>WHOIS_COUNTRY_PA</th>\n",
       "      <th>WHOIS_COUNTRY_UK</th>\n",
       "      <th>WHOIS_COUNTRY_US</th>\n",
       "    </tr>\n",
       "  </thead>\n",
       "  <tbody>\n",
       "    <tr>\n",
       "      <th>0</th>\n",
       "      <td>2.2</td>\n",
       "      <td>0.0</td>\n",
       "      <td>-0.4</td>\n",
       "      <td>-0.239090</td>\n",
       "      <td>-0.047160</td>\n",
       "      <td>-0.230769</td>\n",
       "      <td>0.0</td>\n",
       "      <td>1.0</td>\n",
       "      <td>0.0</td>\n",
       "      <td>0.0</td>\n",
       "      <td>0.0</td>\n",
       "      <td>0.0</td>\n",
       "      <td>0.0</td>\n",
       "      <td>0.0</td>\n",
       "      <td>0.0</td>\n",
       "      <td>0.0</td>\n",
       "      <td>0.0</td>\n",
       "      <td>0.0</td>\n",
       "      <td>1.0</td>\n",
       "      <td>0.0</td>\n",
       "      <td>0.0</td>\n",
       "      <td>0.0</td>\n",
       "      <td>0.0</td>\n",
       "      <td>0.0</td>\n",
       "      <td>0.0</td>\n",
       "      <td>0.0</td>\n",
       "      <td>0.0</td>\n",
       "      <td>0.0</td>\n",
       "      <td>0.0</td>\n",
       "      <td>0.0</td>\n",
       "    </tr>\n",
       "    <tr>\n",
       "      <th>1</th>\n",
       "      <td>-0.2</td>\n",
       "      <td>0.0</td>\n",
       "      <td>0.0</td>\n",
       "      <td>0.072767</td>\n",
       "      <td>0.089475</td>\n",
       "      <td>0.115385</td>\n",
       "      <td>0.5</td>\n",
       "      <td>0.0</td>\n",
       "      <td>0.0</td>\n",
       "      <td>0.0</td>\n",
       "      <td>1.0</td>\n",
       "      <td>0.0</td>\n",
       "      <td>0.0</td>\n",
       "      <td>0.0</td>\n",
       "      <td>0.0</td>\n",
       "      <td>1.0</td>\n",
       "      <td>0.0</td>\n",
       "      <td>0.0</td>\n",
       "      <td>0.0</td>\n",
       "      <td>0.0</td>\n",
       "      <td>0.0</td>\n",
       "      <td>0.0</td>\n",
       "      <td>0.0</td>\n",
       "      <td>0.0</td>\n",
       "      <td>1.0</td>\n",
       "      <td>0.0</td>\n",
       "      <td>0.0</td>\n",
       "      <td>0.0</td>\n",
       "      <td>0.0</td>\n",
       "      <td>-1.0</td>\n",
       "    </tr>\n",
       "    <tr>\n",
       "      <th>2</th>\n",
       "      <td>-0.2</td>\n",
       "      <td>1.0</td>\n",
       "      <td>1.2</td>\n",
       "      <td>0.485977</td>\n",
       "      <td>0.027779</td>\n",
       "      <td>0.653846</td>\n",
       "      <td>0.0</td>\n",
       "      <td>0.0</td>\n",
       "      <td>0.0</td>\n",
       "      <td>0.0</td>\n",
       "      <td>0.0</td>\n",
       "      <td>0.0</td>\n",
       "      <td>1.0</td>\n",
       "      <td>0.0</td>\n",
       "      <td>0.0</td>\n",
       "      <td>1.0</td>\n",
       "      <td>0.0</td>\n",
       "      <td>0.0</td>\n",
       "      <td>0.0</td>\n",
       "      <td>0.0</td>\n",
       "      <td>0.0</td>\n",
       "      <td>0.0</td>\n",
       "      <td>0.0</td>\n",
       "      <td>0.0</td>\n",
       "      <td>0.0</td>\n",
       "      <td>0.0</td>\n",
       "      <td>0.0</td>\n",
       "      <td>0.0</td>\n",
       "      <td>0.0</td>\n",
       "      <td>0.0</td>\n",
       "    </tr>\n",
       "    <tr>\n",
       "      <th>3</th>\n",
       "      <td>0.2</td>\n",
       "      <td>0.0</td>\n",
       "      <td>-0.4</td>\n",
       "      <td>-0.239090</td>\n",
       "      <td>-0.047160</td>\n",
       "      <td>-0.230769</td>\n",
       "      <td>0.0</td>\n",
       "      <td>0.0</td>\n",
       "      <td>0.0</td>\n",
       "      <td>1.0</td>\n",
       "      <td>0.0</td>\n",
       "      <td>0.0</td>\n",
       "      <td>0.0</td>\n",
       "      <td>0.0</td>\n",
       "      <td>0.0</td>\n",
       "      <td>0.0</td>\n",
       "      <td>0.0</td>\n",
       "      <td>1.0</td>\n",
       "      <td>0.0</td>\n",
       "      <td>0.0</td>\n",
       "      <td>0.0</td>\n",
       "      <td>0.0</td>\n",
       "      <td>0.0</td>\n",
       "      <td>0.0</td>\n",
       "      <td>0.0</td>\n",
       "      <td>0.0</td>\n",
       "      <td>0.0</td>\n",
       "      <td>0.0</td>\n",
       "      <td>0.0</td>\n",
       "      <td>0.0</td>\n",
       "    </tr>\n",
       "    <tr>\n",
       "      <th>4</th>\n",
       "      <td>0.6</td>\n",
       "      <td>0.8</td>\n",
       "      <td>0.6</td>\n",
       "      <td>0.098755</td>\n",
       "      <td>0.000431</td>\n",
       "      <td>0.153846</td>\n",
       "      <td>0.0</td>\n",
       "      <td>1.0</td>\n",
       "      <td>0.0</td>\n",
       "      <td>0.0</td>\n",
       "      <td>0.0</td>\n",
       "      <td>0.0</td>\n",
       "      <td>0.0</td>\n",
       "      <td>0.0</td>\n",
       "      <td>0.0</td>\n",
       "      <td>0.0</td>\n",
       "      <td>1.0</td>\n",
       "      <td>0.0</td>\n",
       "      <td>0.0</td>\n",
       "      <td>0.0</td>\n",
       "      <td>1.0</td>\n",
       "      <td>0.0</td>\n",
       "      <td>0.0</td>\n",
       "      <td>0.0</td>\n",
       "      <td>0.0</td>\n",
       "      <td>0.0</td>\n",
       "      <td>0.0</td>\n",
       "      <td>0.0</td>\n",
       "      <td>0.0</td>\n",
       "      <td>-1.0</td>\n",
       "    </tr>\n",
       "  </tbody>\n",
       "</table>\n",
       "</div>"
      ],
      "text/plain": [
       "   NUMBER_SPECIAL_CHARACTERS  DIST_REMOTE_TCP_PORT  REMOTE_IPS  APP_BYTES  \\\n",
       "0                        2.2                   0.0        -0.4  -0.239090   \n",
       "1                       -0.2                   0.0         0.0   0.072767   \n",
       "2                       -0.2                   1.0         1.2   0.485977   \n",
       "3                        0.2                   0.0        -0.4  -0.239090   \n",
       "4                        0.6                   0.8         0.6   0.098755   \n",
       "\n",
       "   SOURCE_APP_BYTES  APP_PACKETS  DNS_QUERY_TIMES  CHARSET_ISO-8859-1  \\\n",
       "0         -0.047160    -0.230769              0.0                 1.0   \n",
       "1          0.089475     0.115385              0.5                 0.0   \n",
       "2          0.027779     0.653846              0.0                 0.0   \n",
       "3         -0.047160    -0.230769              0.0                 0.0   \n",
       "4          0.000431     0.153846              0.0                 1.0   \n",
       "\n",
       "   CHARSET_None  CHARSET_UTF-8  CHARSET_iso-8859-1  CHARSET_us-ascii  \\\n",
       "0           0.0            0.0                 0.0               0.0   \n",
       "1           0.0            0.0                 1.0               0.0   \n",
       "2           0.0            0.0                 0.0               0.0   \n",
       "3           0.0            1.0                 0.0               0.0   \n",
       "4           0.0            0.0                 0.0               0.0   \n",
       "\n",
       "   CHARSET_utf-8  CHARSET_windows-1251  CHARSET_windows-1252  SERVER_Apache  \\\n",
       "0            0.0                   0.0                   0.0            0.0   \n",
       "1            0.0                   0.0                   0.0            1.0   \n",
       "2            1.0                   0.0                   0.0            1.0   \n",
       "3            0.0                   0.0                   0.0            0.0   \n",
       "4            0.0                   0.0                   0.0            0.0   \n",
       "\n",
       "   SERVER_Microsoft  SERVER_Other  SERVER_nginx  WHOIS_COUNTRY_AU  \\\n",
       "0               0.0           0.0           1.0               0.0   \n",
       "1               0.0           0.0           0.0               0.0   \n",
       "2               0.0           0.0           0.0               0.0   \n",
       "3               0.0           1.0           0.0               0.0   \n",
       "4               1.0           0.0           0.0               0.0   \n",
       "\n",
       "   WHOIS_COUNTRY_CA  WHOIS_COUNTRY_CN  WHOIS_COUNTRY_ES  WHOIS_COUNTRY_FR  \\\n",
       "0               0.0               0.0               0.0               0.0   \n",
       "1               0.0               0.0               0.0               0.0   \n",
       "2               0.0               0.0               0.0               0.0   \n",
       "3               0.0               0.0               0.0               0.0   \n",
       "4               1.0               0.0               0.0               0.0   \n",
       "\n",
       "   WHOIS_COUNTRY_IN  WHOIS_COUNTRY_JP  WHOIS_COUNTRY_OTHER  WHOIS_COUNTRY_PA  \\\n",
       "0               0.0               0.0                  0.0               0.0   \n",
       "1               1.0               0.0                  0.0               0.0   \n",
       "2               0.0               0.0                  0.0               0.0   \n",
       "3               0.0               0.0                  0.0               0.0   \n",
       "4               0.0               0.0                  0.0               0.0   \n",
       "\n",
       "   WHOIS_COUNTRY_UK  WHOIS_COUNTRY_US  \n",
       "0               0.0               0.0  \n",
       "1               0.0              -1.0  \n",
       "2               0.0               0.0  \n",
       "3               0.0               0.0  \n",
       "4               0.0              -1.0  "
      ]
     },
     "execution_count": 65,
     "metadata": {},
     "output_type": "execute_result"
    }
   ],
   "source": [
    "# Your code here\n",
    "from sklearn.preprocessing import RobustScaler\n",
    "\n",
    "normalizer = RobustScaler()\n",
    "normalizer = normalizer.fit(X_train)\n",
    "X_train_norm = normalizer.transform(X_train)\n",
    "X_train_norm = pd.DataFrame(X_train_norm, columns = X_train.columns)\n",
    "X_train_norm.head()"
   ]
  },
  {
   "cell_type": "code",
   "execution_count": 66,
   "metadata": {},
   "outputs": [
    {
     "data": {
      "text/html": [
       "<div>\n",
       "<style scoped>\n",
       "    .dataframe tbody tr th:only-of-type {\n",
       "        vertical-align: middle;\n",
       "    }\n",
       "\n",
       "    .dataframe tbody tr th {\n",
       "        vertical-align: top;\n",
       "    }\n",
       "\n",
       "    .dataframe thead th {\n",
       "        text-align: right;\n",
       "    }\n",
       "</style>\n",
       "<table border=\"1\" class=\"dataframe\">\n",
       "  <thead>\n",
       "    <tr style=\"text-align: right;\">\n",
       "      <th></th>\n",
       "      <th>NUMBER_SPECIAL_CHARACTERS</th>\n",
       "      <th>DIST_REMOTE_TCP_PORT</th>\n",
       "      <th>REMOTE_IPS</th>\n",
       "      <th>APP_BYTES</th>\n",
       "      <th>SOURCE_APP_BYTES</th>\n",
       "      <th>APP_PACKETS</th>\n",
       "      <th>DNS_QUERY_TIMES</th>\n",
       "      <th>CHARSET_ISO-8859-1</th>\n",
       "      <th>CHARSET_None</th>\n",
       "      <th>CHARSET_UTF-8</th>\n",
       "      <th>CHARSET_iso-8859-1</th>\n",
       "      <th>CHARSET_us-ascii</th>\n",
       "      <th>CHARSET_utf-8</th>\n",
       "      <th>CHARSET_windows-1251</th>\n",
       "      <th>CHARSET_windows-1252</th>\n",
       "      <th>SERVER_Apache</th>\n",
       "      <th>SERVER_Microsoft</th>\n",
       "      <th>SERVER_Other</th>\n",
       "      <th>SERVER_nginx</th>\n",
       "      <th>WHOIS_COUNTRY_AU</th>\n",
       "      <th>WHOIS_COUNTRY_CA</th>\n",
       "      <th>WHOIS_COUNTRY_CN</th>\n",
       "      <th>WHOIS_COUNTRY_ES</th>\n",
       "      <th>WHOIS_COUNTRY_FR</th>\n",
       "      <th>WHOIS_COUNTRY_IN</th>\n",
       "      <th>WHOIS_COUNTRY_JP</th>\n",
       "      <th>WHOIS_COUNTRY_OTHER</th>\n",
       "      <th>WHOIS_COUNTRY_PA</th>\n",
       "      <th>WHOIS_COUNTRY_UK</th>\n",
       "      <th>WHOIS_COUNTRY_US</th>\n",
       "    </tr>\n",
       "  </thead>\n",
       "  <tbody>\n",
       "    <tr>\n",
       "      <th>0</th>\n",
       "      <td>0.6</td>\n",
       "      <td>0.0</td>\n",
       "      <td>0.2</td>\n",
       "      <td>0.237358</td>\n",
       "      <td>0.121884</td>\n",
       "      <td>0.230769</td>\n",
       "      <td>1.0</td>\n",
       "      <td>0.0</td>\n",
       "      <td>0.0</td>\n",
       "      <td>0.0</td>\n",
       "      <td>0.0</td>\n",
       "      <td>1.0</td>\n",
       "      <td>0.0</td>\n",
       "      <td>0.0</td>\n",
       "      <td>0.0</td>\n",
       "      <td>0.0</td>\n",
       "      <td>1.0</td>\n",
       "      <td>0.0</td>\n",
       "      <td>0.0</td>\n",
       "      <td>0.0</td>\n",
       "      <td>0.0</td>\n",
       "      <td>0.0</td>\n",
       "      <td>0.0</td>\n",
       "      <td>0.0</td>\n",
       "      <td>0.0</td>\n",
       "      <td>0.0</td>\n",
       "      <td>0.0</td>\n",
       "      <td>0.0</td>\n",
       "      <td>0.0</td>\n",
       "      <td>0.0</td>\n",
       "    </tr>\n",
       "    <tr>\n",
       "      <th>1</th>\n",
       "      <td>1.0</td>\n",
       "      <td>0.0</td>\n",
       "      <td>-0.4</td>\n",
       "      <td>-0.239090</td>\n",
       "      <td>-0.047160</td>\n",
       "      <td>-0.230769</td>\n",
       "      <td>0.0</td>\n",
       "      <td>0.0</td>\n",
       "      <td>0.0</td>\n",
       "      <td>0.0</td>\n",
       "      <td>1.0</td>\n",
       "      <td>0.0</td>\n",
       "      <td>0.0</td>\n",
       "      <td>0.0</td>\n",
       "      <td>0.0</td>\n",
       "      <td>1.0</td>\n",
       "      <td>0.0</td>\n",
       "      <td>0.0</td>\n",
       "      <td>0.0</td>\n",
       "      <td>0.0</td>\n",
       "      <td>0.0</td>\n",
       "      <td>0.0</td>\n",
       "      <td>0.0</td>\n",
       "      <td>0.0</td>\n",
       "      <td>0.0</td>\n",
       "      <td>0.0</td>\n",
       "      <td>0.0</td>\n",
       "      <td>0.0</td>\n",
       "      <td>0.0</td>\n",
       "      <td>0.0</td>\n",
       "    </tr>\n",
       "    <tr>\n",
       "      <th>2</th>\n",
       "      <td>-0.4</td>\n",
       "      <td>0.0</td>\n",
       "      <td>-0.2</td>\n",
       "      <td>0.227829</td>\n",
       "      <td>0.117793</td>\n",
       "      <td>0.230769</td>\n",
       "      <td>1.0</td>\n",
       "      <td>0.0</td>\n",
       "      <td>0.0</td>\n",
       "      <td>1.0</td>\n",
       "      <td>0.0</td>\n",
       "      <td>0.0</td>\n",
       "      <td>0.0</td>\n",
       "      <td>0.0</td>\n",
       "      <td>0.0</td>\n",
       "      <td>1.0</td>\n",
       "      <td>0.0</td>\n",
       "      <td>0.0</td>\n",
       "      <td>0.0</td>\n",
       "      <td>0.0</td>\n",
       "      <td>0.0</td>\n",
       "      <td>0.0</td>\n",
       "      <td>0.0</td>\n",
       "      <td>0.0</td>\n",
       "      <td>0.0</td>\n",
       "      <td>0.0</td>\n",
       "      <td>0.0</td>\n",
       "      <td>1.0</td>\n",
       "      <td>0.0</td>\n",
       "      <td>-1.0</td>\n",
       "    </tr>\n",
       "    <tr>\n",
       "      <th>3</th>\n",
       "      <td>0.0</td>\n",
       "      <td>3.6</td>\n",
       "      <td>0.4</td>\n",
       "      <td>1.104061</td>\n",
       "      <td>1.438170</td>\n",
       "      <td>0.961538</td>\n",
       "      <td>1.0</td>\n",
       "      <td>0.0</td>\n",
       "      <td>0.0</td>\n",
       "      <td>1.0</td>\n",
       "      <td>0.0</td>\n",
       "      <td>0.0</td>\n",
       "      <td>0.0</td>\n",
       "      <td>0.0</td>\n",
       "      <td>0.0</td>\n",
       "      <td>0.0</td>\n",
       "      <td>0.0</td>\n",
       "      <td>1.0</td>\n",
       "      <td>0.0</td>\n",
       "      <td>0.0</td>\n",
       "      <td>0.0</td>\n",
       "      <td>0.0</td>\n",
       "      <td>0.0</td>\n",
       "      <td>0.0</td>\n",
       "      <td>0.0</td>\n",
       "      <td>0.0</td>\n",
       "      <td>0.0</td>\n",
       "      <td>0.0</td>\n",
       "      <td>0.0</td>\n",
       "      <td>0.0</td>\n",
       "    </tr>\n",
       "    <tr>\n",
       "      <th>4</th>\n",
       "      <td>-0.2</td>\n",
       "      <td>0.0</td>\n",
       "      <td>-0.4</td>\n",
       "      <td>-0.239090</td>\n",
       "      <td>-0.047160</td>\n",
       "      <td>-0.230769</td>\n",
       "      <td>0.0</td>\n",
       "      <td>1.0</td>\n",
       "      <td>0.0</td>\n",
       "      <td>0.0</td>\n",
       "      <td>0.0</td>\n",
       "      <td>0.0</td>\n",
       "      <td>0.0</td>\n",
       "      <td>0.0</td>\n",
       "      <td>0.0</td>\n",
       "      <td>0.0</td>\n",
       "      <td>0.0</td>\n",
       "      <td>0.0</td>\n",
       "      <td>1.0</td>\n",
       "      <td>0.0</td>\n",
       "      <td>0.0</td>\n",
       "      <td>0.0</td>\n",
       "      <td>0.0</td>\n",
       "      <td>1.0</td>\n",
       "      <td>0.0</td>\n",
       "      <td>0.0</td>\n",
       "      <td>0.0</td>\n",
       "      <td>0.0</td>\n",
       "      <td>0.0</td>\n",
       "      <td>-1.0</td>\n",
       "    </tr>\n",
       "  </tbody>\n",
       "</table>\n",
       "</div>"
      ],
      "text/plain": [
       "   NUMBER_SPECIAL_CHARACTERS  DIST_REMOTE_TCP_PORT  REMOTE_IPS  APP_BYTES  \\\n",
       "0                        0.6                   0.0         0.2   0.237358   \n",
       "1                        1.0                   0.0        -0.4  -0.239090   \n",
       "2                       -0.4                   0.0        -0.2   0.227829   \n",
       "3                        0.0                   3.6         0.4   1.104061   \n",
       "4                       -0.2                   0.0        -0.4  -0.239090   \n",
       "\n",
       "   SOURCE_APP_BYTES  APP_PACKETS  DNS_QUERY_TIMES  CHARSET_ISO-8859-1  \\\n",
       "0          0.121884     0.230769              1.0                 0.0   \n",
       "1         -0.047160    -0.230769              0.0                 0.0   \n",
       "2          0.117793     0.230769              1.0                 0.0   \n",
       "3          1.438170     0.961538              1.0                 0.0   \n",
       "4         -0.047160    -0.230769              0.0                 1.0   \n",
       "\n",
       "   CHARSET_None  CHARSET_UTF-8  CHARSET_iso-8859-1  CHARSET_us-ascii  \\\n",
       "0           0.0            0.0                 0.0               1.0   \n",
       "1           0.0            0.0                 1.0               0.0   \n",
       "2           0.0            1.0                 0.0               0.0   \n",
       "3           0.0            1.0                 0.0               0.0   \n",
       "4           0.0            0.0                 0.0               0.0   \n",
       "\n",
       "   CHARSET_utf-8  CHARSET_windows-1251  CHARSET_windows-1252  SERVER_Apache  \\\n",
       "0            0.0                   0.0                   0.0            0.0   \n",
       "1            0.0                   0.0                   0.0            1.0   \n",
       "2            0.0                   0.0                   0.0            1.0   \n",
       "3            0.0                   0.0                   0.0            0.0   \n",
       "4            0.0                   0.0                   0.0            0.0   \n",
       "\n",
       "   SERVER_Microsoft  SERVER_Other  SERVER_nginx  WHOIS_COUNTRY_AU  \\\n",
       "0               1.0           0.0           0.0               0.0   \n",
       "1               0.0           0.0           0.0               0.0   \n",
       "2               0.0           0.0           0.0               0.0   \n",
       "3               0.0           1.0           0.0               0.0   \n",
       "4               0.0           0.0           1.0               0.0   \n",
       "\n",
       "   WHOIS_COUNTRY_CA  WHOIS_COUNTRY_CN  WHOIS_COUNTRY_ES  WHOIS_COUNTRY_FR  \\\n",
       "0               0.0               0.0               0.0               0.0   \n",
       "1               0.0               0.0               0.0               0.0   \n",
       "2               0.0               0.0               0.0               0.0   \n",
       "3               0.0               0.0               0.0               0.0   \n",
       "4               0.0               0.0               0.0               1.0   \n",
       "\n",
       "   WHOIS_COUNTRY_IN  WHOIS_COUNTRY_JP  WHOIS_COUNTRY_OTHER  WHOIS_COUNTRY_PA  \\\n",
       "0               0.0               0.0                  0.0               0.0   \n",
       "1               0.0               0.0                  0.0               0.0   \n",
       "2               0.0               0.0                  0.0               1.0   \n",
       "3               0.0               0.0                  0.0               0.0   \n",
       "4               0.0               0.0                  0.0               0.0   \n",
       "\n",
       "   WHOIS_COUNTRY_UK  WHOIS_COUNTRY_US  \n",
       "0               0.0               0.0  \n",
       "1               0.0               0.0  \n",
       "2               0.0              -1.0  \n",
       "3               0.0               0.0  \n",
       "4               0.0              -1.0  "
      ]
     },
     "execution_count": 66,
     "metadata": {},
     "output_type": "execute_result"
    }
   ],
   "source": [
    "X_test_norm = normalizer.transform(X_test)\n",
    "X_test_norm = pd.DataFrame(X_test_norm, columns = X_test.columns)\n",
    "X_test_norm.head()"
   ]
  },
  {
   "cell_type": "code",
   "execution_count": 67,
   "metadata": {},
   "outputs": [
    {
     "name": "stdout",
     "output_type": "stream",
     "text": [
      "Train data accuracy is 0.889\n",
      "Test data accuracy is 0.925\n"
     ]
    }
   ],
   "source": [
    "print(\"Train data accuracy is\", round(knn.score(X_train_norm, y_train), 3))\n",
    "print(\"Test data accuracy is\", round(knn.score(X_test_norm, y_test), 3))"
   ]
  },
  {
   "cell_type": "code",
   "execution_count": 68,
   "metadata": {},
   "outputs": [
    {
     "data": {
      "text/html": [
       "<div>\n",
       "<style scoped>\n",
       "    .dataframe tbody tr th:only-of-type {\n",
       "        vertical-align: middle;\n",
       "    }\n",
       "\n",
       "    .dataframe tbody tr th {\n",
       "        vertical-align: top;\n",
       "    }\n",
       "\n",
       "    .dataframe thead th {\n",
       "        text-align: right;\n",
       "    }\n",
       "</style>\n",
       "<table border=\"1\" class=\"dataframe\">\n",
       "  <thead>\n",
       "    <tr style=\"text-align: right;\">\n",
       "      <th></th>\n",
       "      <th>Pred: Yes</th>\n",
       "      <th>Pred: No</th>\n",
       "    </tr>\n",
       "  </thead>\n",
       "  <tbody>\n",
       "    <tr>\n",
       "      <th>Obs: Yes</th>\n",
       "      <td>0</td>\n",
       "      <td>21</td>\n",
       "    </tr>\n",
       "    <tr>\n",
       "      <th>Obs: No</th>\n",
       "      <td>1</td>\n",
       "      <td>273</td>\n",
       "    </tr>\n",
       "  </tbody>\n",
       "</table>\n",
       "</div>"
      ],
      "text/plain": [
       "          Pred: Yes  Pred: No\n",
       "Obs: Yes          0        21\n",
       "Obs: No           1       273"
      ]
     },
     "execution_count": 68,
     "metadata": {},
     "output_type": "execute_result"
    }
   ],
   "source": [
    "knn_pred = knn.predict(X_test_norm)\n",
    "\n",
    "knn_matrix = pd.DataFrame(confusion_matrix(y_test, knn_pred, labels=[1,0]),\n",
    "                         index=['Obs: Yes', 'Obs: No'], \n",
    "                         columns=['Pred: Yes', 'Pred: No'])\n",
    "\n",
    "knn_matrix"
   ]
  },
  {
   "cell_type": "code",
   "execution_count": 69,
   "metadata": {},
   "outputs": [],
   "source": [
    "# The prediction power of the model has worsened after using feature scaling."
   ]
  }
 ],
 "metadata": {
  "kernelspec": {
   "display_name": "Python 3 (ipykernel)",
   "language": "python",
   "name": "python3"
  },
  "language_info": {
   "codemirror_mode": {
    "name": "ipython",
    "version": 3
   },
   "file_extension": ".py",
   "mimetype": "text/x-python",
   "name": "python",
   "nbconvert_exporter": "python",
   "pygments_lexer": "ipython3",
   "version": "3.10.9"
  }
 },
 "nbformat": 4,
 "nbformat_minor": 2
}
